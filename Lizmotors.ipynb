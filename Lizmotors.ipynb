{
 "cells": [
  {
   "cell_type": "code",
   "execution_count": 1,
   "id": "32793df3-64d6-49b2-b1ad-60674a115809",
   "metadata": {},
   "outputs": [],
   "source": [
    "import requests\n",
    "from bs4 import BeautifulSoup\n",
    "import pandas as pd"
   ]
  },
  {
   "cell_type": "code",
   "execution_count": 5,
   "id": "a0f03515-88d6-46c4-89e6-77538687111a",
   "metadata": {
    "collapsed": true,
    "jupyter": {
     "outputs_hidden": true
    },
    "tags": []
   },
   "outputs": [
    {
     "ename": "SyntaxError",
     "evalue": "invalid syntax (3448159698.py, line 3)",
     "output_type": "error",
     "traceback": [
      "\u001b[1;36m  Input \u001b[1;32mIn [5]\u001b[1;36m\u001b[0m\n\u001b[1;33m    pip install googlesearch-python\u001b[0m\n\u001b[1;37m        ^\u001b[0m\n\u001b[1;31mSyntaxError\u001b[0m\u001b[1;31m:\u001b[0m invalid syntax\n"
     ]
    }
   ],
   "source": [
    "import warnings\n",
    "warnings.filterwarnings('ignore')\n",
    "pip install googlesearch-python"
   ]
  },
  {
   "cell_type": "code",
   "execution_count": 6,
   "id": "303de8b1-05c5-4b69-b941-52a362b6997d",
   "metadata": {},
   "outputs": [
    {
     "data": {
      "text/plain": [
       "['https://investors.canoo.com/financial-information/income-statement',\n",
       " 'https://simplywall.st/stocks/us/automobiles/nasdaq-goev/canoo/past',\n",
       " 'https://www.tipranks.com/stocks/goev/financials',\n",
       " 'https://www.wsj.com/market-data/quotes/GOEV/financials',\n",
       " 'https://ycharts.com/companies/GOEV/gross_profit_margin',\n",
       " 'https://in.investing.com/equities/hennessy-capital-acquisition-corp-financial-summary',\n",
       " 'https://www.macrotrends.net/stocks/charts/GOEV/canoo/profit-margins']"
      ]
     },
     "execution_count": 6,
     "metadata": {},
     "output_type": "execute_result"
    }
   ],
   "source": [
    "# Step 1: Search Queries and Get a List of Query Links\n",
    "from googlesearch import search\n",
    "\n",
    "queries =[\"Canoo industry size and growth rate\",\n",
    "           \"Canoo competitors market share and pricing strategies\",\n",
    "           \"Key trends in Canoo's market\",\n",
    "           \"Canoo financial performance revenue and profit margins\"]\n",
    "for query in queries:\n",
    "    search_results = search(query,num_results=5)\n",
    "    links =[]\n",
    "    for result in search_results:\n",
    "            if result not in links:\n",
    "                links.append(result)\n",
    "\n",
    "links"
   ]
  },
  {
   "cell_type": "code",
   "execution_count": 7,
   "id": "d1a58d5c-78d0-4111-a062-88c1dc29da72",
   "metadata": {
    "collapsed": true,
    "jupyter": {
     "outputs_hidden": true
    },
    "tags": []
   },
   "outputs": [
    {
     "data": {
      "text/plain": [
       "[{'Title': <title>Canoo industry size and growth rate - Google Search</title>,\n",
       "  'Text': \"Canoo industry size and growth rate - Google SearchGoogle×Please click here if you are not redirected within a few seconds.    AllNewsImagesVideos Maps Shopping Books Search tools    Any timeAny timePast hourPast 24 hoursPast weekPast monthPast yearAll resultsAll resultsVerbatimIncluding results for Canoe industry size and growth rateSearch only for Canoo industry size and growth rateCanoe Market Size, Growth & Trends Report [2024-2030] - LinkedInwww.linkedin.com › pulse › canoe-market-size-growth-trends-report-2024...1 Dec 2023 · By 2030, the global Canoe market size is projected to reach multimillion figures, displaying an unexpected compound annual growth rate between\\xa0...People also askHow big is the canoeing market?What is the definition of a canoo?Canoo Inc. (GOEV) valuation measures & financial ... - Yahoo Financesg.finance.yahoo.com › quote › GOEV › key-statisticsReturn on equity (ttm), -170.77%. Income statement. Revenue (ttm), N/A. Revenue per share (ttm), N/A. Quarterly revenue growth (yoy), N/A. Gross profit (ttm), N\\xa0...Canoe & Kayak Market Size In 2023 : Growth Opportunities and ...www.linkedin.com › pulse › canoe-kayak-market-size-2023-growth-oppor...19 Sept 2023 · Canoe accounting for Percent of the Canoe & Kayak global market in 2021, is projected to value USD million by 2028, growing at a revised Percent\\xa0...Canoo Created Over 100 Jobs in State of Oklahoma to Scale ...investors.canoo.com › news-presentations › press-releases › detail › canoo-...10 Jan 2024 · The company is growing its team across Oklahoma to scale manufacturing and meet customer deliveries of 18,000 committed orders representing $750\\xa0...Canoo Inc. (GOEV) Valuation Measures ... - Yahoo Financefinance.yahoo.com › quote › GOEV › key-statisticsFind out all the key statistics for Canoo Inc. (GOEV), including valuation measures, fiscal year financial statistics, trading record, share statistics and\\xa0...Report charts EV industry's growth trajectory, cites Canoojournalrecord.com › 2022 › NovemberThe global EV market, which was worth about $178.5 billion in 2021, has been ... growth rate of roughly 22.5%, the outlet reported. It said exceptional\\xa0...Canoo - Wikipediaen.wikipedia.org › wiki › CanooCanoo Inc. is an American automotive company based in Torrance, California, that develops and manufactures electric vehicles. Canoo's research & development\\xa0...Where Will Canoo Stock Be in 1 Year? | The Motley Foolwww.fool.com › investing › 2024/01/30 › where-will-canoo-stock-be-in-1...30 Jan 2024 · In the third quarter of 2023, Canoo generated $519,000 of revenue, compared to zero in the prior year period. ... Growth of EVs and Mexico. 628%\\xa0...Canoo (GOEV) Market Cap & Net Worth - Stock Analysisstockanalysis.com › stocks › goev › market-capSince March 1, 2019, Canoo's market cap has decreased from $313.10M to $135.24M, a decrease of -56.81%. That is a compound annual growth rate of -15.55%.Management Team :: Canoo Inc. (GOEV)investors.canoo.com › company-information › management-teamSignificantly growing the total addressable market by executing over 50 acquisitions during his tenure, it employed 7,000 people in more than 90 countries. In\\xa0...  Next >  Midnapore, West BengalFrom your IP address\\xa0-\\xa0Learn moreSign inSettingsPrivacyTermsDark theme: Off \"},\n",
       " {'Title': <title>Canoo competitors market share and pricing strategies - Google Search</title>,\n",
       "  'Text': \"Canoo competitors market share and pricing strategies - Google SearchGoogle×Please click here if you are not redirected within a few seconds.    AllNewsImagesBooks Maps Videos Shopping Search tools    Any timeAny timePast hourPast 24 hoursPast weekPast monthPast yearAll resultsAll resultsVerbatimCanoe Market Share 2024 Revenue and Price Trends, Size, Growth ...www.linkedin.com › pulse › canoe-market-share-2024-revenue-price-trend...24 Jan 2024 · The report provides an in-depth study of the major players in the market, their competitive landscape, product portfolios, strategies, and\\xa0...Canoo Inc Competitors 2023 | Stocks: GOEV - Macroaxiswww.macroaxis.com › competition › GOEVCanoo Inc competes with Goodyear Tire, Quantumscape Corp, Visteon Corp, Dorman Products, and Volcon; as well as few others. The company conducts business under\\xa0...GOEV's vs. Market share relative to its competitors, as of Q3 2023csimarket.com › stocks › competitionSEG2Canoo Inc's Q3 2023 quarter and 12 months market share, relative to the GOEV's competitors. Based on total revenues.7 EV Stocks to Sell as Competition Heats Up | InvestorPlaceinvestorplace.com › Expert Stock Picks › Stocks to Sell26 Mar 2023 · With these seven EV stocks to sell, rising competitive risks outweigh long-term vehicle electrification trends.Canoo (GOEV) Competitors and Alternatives 2024 - MarketBeatwww.marketbeat.com › Stocks › NYSE › GOEVThe main competitors of Canoo include Strattec Security (STRT), China Automotive Systems (CAAS), Superior Industries International (SUP), Motorcar Parts of\\xa0...People also askWhat is the price forecast for Canoo?What is the stock market prediction for Canoo in 2023?Is Canoo undervalued?What is the analyst rating of Canoo?Canoe Market Analysis, Research, Regional outlook, Competitive ...www.profsharemarketresearch.com › canoe-marketProfshare Market Research launches an in-detailed study of market segmentation, drivers, constraints, regional analysis, trends and forecast of the Canoe\\xa0...Canoo Inc (GOEV) - Strategy, SWOT and Corporate Finance Reportstore.marketline.com › report › canoo-inc-swot-analysisCanoo Inc, Key Competitors. Canoo Inc, Ratios based on current share price. Canoo Inc, Annual Ratios. Canoo Inc, Annual Ratios (Cont…1). Canoo Inc, Interim\\xa0...2023: Analysis of the Canoe And Kayak Market Share, Products ...www.linkedin.com › pulse › 2023-analysis-canoe-kayak-market-share-pro...12 Jul 2023 · The study's in-depth research of the company's stock helps readers better compete with established competitors in the Canoe And Kayak market.Promises Kept - Canoo Pricing For Lifestyle Vehicle Is Accessible ...investors.canoo.com › news-presentations › press-releases › detail › promis...17 May 2021 · The Lifestyle Vehicle will be the first vehicle to market in 2022, and has targeted pricing starting from $34,750 -$49,950i for Delivery, Base\\xa0...Promises Kept - Canoo Pricing For Lifestyle Vehicle ... - PR Newswirewww.prnewswire.com › news-releases › promises-kept--canoo-pricing-for-...17 May 2021 · The Lifestyle Vehicle will be the first vehicle to market in 2022, and has targeted pricing starting from $34,750 -$49,950i for Delivery, Base\\xa0...Related searchesIs Canoo a good investmentCanoo stock price prediction 2030Canoo stock forecastCanoo earnings dateCanoo earnings call transcriptCanoo Earnings 2023GOEV buy or sellGOEV stock forecast 2025  Next >  Midnapore, West BengalFrom your IP address\\xa0-\\xa0Learn moreSign inSettingsPrivacyTermsDark theme: Off \"},\n",
       " {'Title': <title>Key trends in Canoo's market - Google Search</title>,\n",
       "  'Text': \"Key trends in Canoo's market - Google SearchGoogle×Please click here if you are not redirected within a few seconds.    AllNewsImagesMaps Videos Shopping Books Search tools    Any timeAny timePast hourPast 24 hoursPast weekPast monthPast yearAll resultsAll resultsVerbatimDid you mean: Key trends in Canoo market5 Things to Know About Canoo Stock - Nasdaqwww.nasdaq.com › articles › 5-things-to-know-about-canoo-stock16 Sept 2023 · 1. Canoo was not a normal IPO · 2. Canoo has yet to make a profit · 3. Canoo isn't generating any revenue · 4. Canoo is paying as it goes · 5.People also askWhat is the future for Canoo Inc?Who is investing in Canoo?What is the Canoo forecast for 2025?What is the Canoo price forecast for 2023?CANOO INC. ANNOUNCES FIRST QUARTER 2023 RESULTSwww.prnewswire.com › news-releases › canoo-inc-announces-first-quarter-...15 May 2023 · PRNewswire/ -- Canoo Inc. (Nasdaq: GOEV), a high-tech advanced mobility company, today announced its financial results for the first quarter\\xa0...GOEV | Canoo Inc. Stock Price & News - WSJwww.wsj.com › QuotesKey Stock Data · P/E Ratio (TTM). N/A · EPS (TTM) -0.78 · Market Cap 156.93 M · Shares Outstanding. 1.11 B · Public Float. 967.31 M · Yield. GOEV is not currently\\xa0...Canoo Inc (GOEV) Technical Analysis - Indicator Insights - INDmoneywww.indmoney.com › US Stocks › Canoo IncBased on analysis of the Oscillators technical indicator, the current market trend for Canoo Inc stock suggests that it is range bound and no decision can\\xa0...Canoo Increases Production Guidance and Targets for US Facilitiesinvestors.canoo.com › news-presentations › press-releases › detail › canoo-...15 Dec 2021 · 2024 - 2025 Production Targets · Reduced supply chain vulnerabilities, · Increased speed to market for our customers, · Allowing us to control more\\xa0...How risky is to invest in Canoo? GOEV - Stocks - Macroaxiswww.macroaxis.com › Stocks › ProfileHyperactively responds to market trends ... This type of volatility provides a positive outlook on future price fluctuations for Canoo's current market price.Canoo has entered into a $45 million Convertible Preferred Stock ...www.prnewswire.com › news-releases › canoo-has-entered-into-a-45-milli...2 Oct 2023 · Canoo and the investor agreed to work together in good faith to negotiate one or more additional investments for up to $150 million. The closing\\xa0...5 Things to Know About Canoo Stock - The Globe and Mailwww.theglobeandmail.com › markets › stocks › GOEV › pressreleases › 5-...16 Sept 2023 · Detailed price information for Canoo Inc (GOEV-Q) from The Globe and Mail including charting and trades.ImagesView allView allCanoo Market Cap 2019-2023 | GOEV - Macrotrendswww.macrotrends.net › stocks › charts › GOEV › canoo › market-capCanoo market cap as of February 15, 2024 is $0.14B. Canoo Inc. is engaged in developing breakthrough electric vehicles with a proprietary and highly versatile\\xa0...Related searchesKey trends in canoo's market todayKey trends in canoo's market 2021Canoo news 2023Why Is Canoo stock droppingCanoo stock news todayCanoo production timelineCanoo stock forecast 2025Canoo news today  Next >  Midnapore, West BengalFrom your IP address\\xa0-\\xa0Learn moreSign inSettingsPrivacyTermsDark theme: Off \"},\n",
       " {'Title': <title>Canoo financial performance revenue and profit margins - Google Search</title>,\n",
       "  'Text': \"Canoo financial performance revenue and profit margins - Google SearchGoogle×Please click here if you are not redirected within a few seconds.    AllNewsImagesVideos Maps Shopping Books Search tools    Any timeAny timePast hourPast 24 hoursPast weekPast monthPast yearAll resultsAll resultsVerbatimCanoo Financial Overview\\n\\n Canoo's market cap is currently ―. The company's EPS TTM is $-0.783; its P/E ratio is -0.19; Canoo is scheduled to report earnings on March 26, 2024, and the estimated EPS forecast is $-0.08. See an overview of income statement, balance sheet, and cash flow financials.Canoo (GOEV) Financial Statements, Cash Flow and Balance Sheetwww.tipranks.com › stocks › goev › financialsAbout featured snippetsIncome Statement - Canoo Investor Relationsinvestors.canoo.com › financial-information › income-statement14 Nov 2023 · Income Statement [Abstract]. Revenue, $ 519, $ 0, $ 519, $ 0. Cost of revenue, 903, 0, 903, 0. Gross margin, (384), 0, (384), 0.Canoo (NasdaqCM:GOEV) - Earnings & Revenue Performancesimplywall.st › stocks › automobiles › nasdaq-goev › canoo › pastDiscover the latest data for Canoo financials. From earnings and revenue to ROE, net margins, growth rates and more. Subscribe for free today!People also askIs Canoo overvalued?Is Canoo Inc a good investment?What is the prediction for Canoo Inc?Who is the major investors in Canoo?GOEV | Canoo Inc. Financial Statements - WSJwww.wsj.com › QuotesCanoo Inc. balance sheet, income statement, cash flow, earnings & estimates, ratio and margins. View GOEV financial statements in full.Canoo Gross Profit Margin (Quarterly) - YChartsycharts.com › companies › GOEV › gross_profit_marginGross Profit Margin is calculated using Gross Profit/Revenue. This metric measures the overall efficiency of a company in being able to turn revenue into gross\\xa0...Canoo Inc (GOEV) Financial Summary - Investing.com Indiain.investing.com › Markets › Shares › CanooGOEV Income Statement. GOEV. Gross margin TTM, -73.99%. Operating margin TTM, -55,305.2%. Net Profit margin TTM, -68,170.71%. Return on Investment TTM, -87.33%\\xa0...Canoo Profit Margin 2019-2023 | GOEV - Macrotrendswww.macrotrends.net › stocks › charts › GOEV › canoo › profit-marginsCanoo net profit margin as of September 30, 2023 is 0%. Compare GOEV With Other Stocks\\xa0...Missing:  financial | Show results with:financialCANOO INC. ANNOUNCES FIRST QUARTER 2023 RESULTSinvestors.canoo.com › news-presentations › press-releases › detail › canoo-...15 May 2023 · Our LDV vehicle is eligible for the full IRA commercial tax credit of $7,500 in 2023; 25% reduction in annual operating expenses compared to\\xa0...Canoo Inc.: Financial Data Forecasts Estimates and Expectationswww.marketscreener.com › Equities › Stock Canoo Inc. - NasdaqOperating Margin, -, -, -, -19,651.83% ; Earnings before Tax (EBT) · -, -346.768, -487.694, -324.75333\\xa0...Canoo Inc. (GOEV) Valuation Measures & Financial Statisticsfinance.yahoo.com › quote › GOEV › key-statisticsFinancial Highlights ; Fiscal Year. Fiscal Year Ends, Dec 31, 2022 ; Profitability. Profit Margin, 0.00% ; Management Effectiveness. Return on Assets · -36.64%.Related searchesCanoo financial statementsCanoo Annual revenueCanoo balance sheetCanoo financial healthCanoo news 2023GOEV financialsCanoo earnings dateCanoo investor Relations  Next >  Midnapore, West BengalFrom your IP address\\xa0-\\xa0Learn moreSign inSettingsPrivacyTermsDark theme: Off \"}]"
      ]
     },
     "execution_count": 7,
     "metadata": {},
     "output_type": "execute_result"
    }
   ],
   "source": [
    "# Step 2: Scrape Data from Web Links\n",
    "data = []\n",
    "queries = [\"Canoo industry size and growth rate\",\n",
    "           \"Canoo competitors market share and pricing strategies\",\n",
    "           \"Key trends in Canoo's market\",\n",
    "           \"Canoo financial performance revenue and profit margins\"]\n",
    "for query in queries:\n",
    "    url = f\"https://google.com/search?q={query}\"  \n",
    "    response = requests.get(url)\n",
    "    soup = BeautifulSoup(response.text, \"html.parser\")\n",
    "    title = soup.title         # Extract relevant information from the page\n",
    "    text = soup.get_text()\n",
    "    data.append({\"Title\": title, \"Text\": text})\n",
    "data  "
   ]
  },
  {
   "cell_type": "code",
   "execution_count": 23,
   "id": "5335ed7f-f9fe-48cc-9124-cb9a4b67e0bf",
   "metadata": {
    "collapsed": true,
    "jupyter": {
     "outputs_hidden": true
    },
    "tags": []
   },
   "outputs": [
    {
     "data": {
      "text/plain": [
       "[{'Title': <title>Income Statement :: Canoo Inc. (GOEV)</title>,\n",
       "  'Text': \"\\n\\n\\n\\n\\n\\n\\n \\n\\n\\n\\nIncome Statement :: Canoo Inc. (GOEV)\\n\\n\\n\\n\\n\\n\\n\\n\\n \\n\\n\\n\\n\\n\\n\\n\\n\\n\\n\\n\\n\\n  \\n\\n\\n\\n\\n\\n\\n\\n\\n\\nBack to Canoo.com\\n\\n\\n\\n\\n\\n\\n\\n\\n\\n\\n\\r\\n                \\tInvestor Relations\\r\\n                \\n\\nInvestor Relations\\n\\nInvestors\\n\\nOverview\\n\\n\\nNews & Presentations\\n\\n\\nPresentations\\n\\n\\nIR Calendar\\n\\n\\nPress Releases\\n\\n\\nEmail Alerts\\n\\n\\n\\n\\nCompany Info\\n\\n\\nManagement Team\\n\\n\\nContacts\\n\\n\\nFAQ\\n\\n\\n\\n\\nFinancial Info\\n\\n\\nFinancial Results\\n\\n\\nIncome Statement\\n\\n\\nBalance Sheet\\n\\n\\nCash Flow\\n\\n\\n\\n\\nStock Data\\n\\n\\nQuote\\n\\n\\nCharts\\n\\n\\nHistorical Data\\n\\n\\n\\n\\nSEC Filings\\n\\n\\nAll SEC Filings\\n\\n\\nAnnual Reports\\n\\n\\nQuarterly Reports\\n\\n\\nSection 16 Filings\\n\\n\\n\\n\\nGovernance\\n\\n\\nBoard of Directors\\n\\n\\nBoard Committees\\n\\n\\nGovernance Documents\\n\\n\\nWhistleblower Policy\\n\\n\\nContact the Board\\n\\n\\n\\n \\n\\n\\n\\n\\n\\n\\n\\n\\nIncome Statement\\n\\n\\n\\n\\n\\n\\n\\n\\n\\n\\n\\n\\n\\n\\n\\n\\r\\n            \\tFinancial Info            \\n\\nFinancial Info\\n\\n\\nFinancial Results\\n\\n\\nIncome Statement\\n\\n\\nBalance Sheet\\n\\n\\nCash Flow\\n\\n\\n\\n\\n\\n\\n\\n\\n\\n\\n\\n\\n\\n\\n\\n\\nv3.23.3\\n\\nCondensed Consolidated Statements of Operations - USD ($) shares in Thousands, $ in Thousands\\n3 Months Ended\\n9 Months Ended\\n\\n\\nSep. 30, 2023\\nSep. 30, 2022\\nSep. 30, 2023\\nSep. 30, 2022\\n\\n\\nIncome Statement [Abstract]\\n\\xa0\\n\\n\\xa0\\n\\n\\xa0\\n\\n\\xa0\\n\\n\\n\\nRevenue\\n$ 519\\n\\n$ 0\\n\\n$ 519\\n\\n$ 0\\n\\n\\n\\nCost of revenue\\n903\\n\\n0\\n\\n903\\n\\n0\\n\\n\\n\\nGross margin\\n(384)\\n\\n0\\n\\n(384)\\n\\n0\\n\\n\\n\\nOperating Expenses\\n\\xa0\\n\\n\\xa0\\n\\n\\xa0\\n\\n\\xa0\\n\\n\\n\\nResearch and development expenses, excluding depreciation\\n21,965\\n\\n57,063\\n\\n107,651\\n\\n255,009\\n\\n\\n\\nSelling, general and administrative expenses, excluding depreciation\\n24,925\\n\\n48,826\\n\\n85,195\\n\\n159,600\\n\\n\\n\\nDepreciation\\n1,495\\n\\n3,449\\n\\n10,632\\n\\n9,020\\n\\n\\n\\nTotal operating expenses\\n48,385\\n\\n109,338\\n\\n203,478\\n\\n423,629\\n\\n\\n\\nLoss from operations\\n(48,769)\\n\\n(109,338)\\n\\n(203,862)\\n\\n(423,629)\\n\\n\\n\\nOther (expense) income\\n\\xa0\\n\\n\\xa0\\n\\n\\xa0\\n\\n\\xa0\\n\\n\\n\\nInterest expense\\n(4,195)\\n\\n(2,179)\\n\\n(6,755)\\n\\n(2,189)\\n\\n\\n\\nGain (loss) on fair value change in contingent earnout shares liability\\n279\\n\\n(2,067)\\n\\n2,843\\n\\n22,869\\n\\n\\n\\nGain on fair value change in warrant and derivative liability\\n17,126\\n\\n0\\n\\n40,091\\n\\n0\\n\\n\\n\\nLoss on fair value change in derivative asset\\n(3,761)\\n\\n0\\n\\n(3,761)\\n\\n0\\n\\n\\n\\nLoss on fair value change in convertible debt\\n(69,615)\\n\\n0\\n\\n(69,615)\\n\\n0\\n\\n\\n\\nLoss on extinguishment of debt\\n(2,573)\\n\\n(4,095)\\n\\n(30,261)\\n\\n(4,095)\\n\\n\\n\\nOther expense, net\\n(466)\\n\\n(26)\\n\\n(2,256)\\n\\n(420)\\n\\n\\n\\nLoss before income taxes\\n(111,974)\\n\\n(117,705)\\n\\n(273,576)\\n\\n(407,464)\\n\\n\\n\\nProvision for income taxes\\n0\\n\\n0\\n\\n0\\n\\n0\\n\\n\\n\\nNet loss and comprehensive loss\\n(111,974)\\n\\n(117,705)\\n\\n(273,576)\\n\\n(407,464)\\n\\n\\n\\nNet loss and comprehensive loss\\n$ (111,974)\\n\\n$ (117,705)\\n\\n$ (273,576)\\n\\n$ (407,464)\\n\\n\\n\\nPer Share Data:\\n\\xa0\\n\\n\\xa0\\n\\n\\xa0\\n\\n\\xa0\\n\\n\\n\\nNet loss per share, basic (in dollars per share)\\n$ (0.18)\\n\\n$ (0.43)\\n\\n$ (0.53)\\n\\n$ (1.62)\\n\\n\\n\\nNet loss per share, diluted (in dollars per share)\\n$ (0.18)\\n\\n$ (0.43)\\n\\n$ (0.53)\\n\\n$ (1.62)\\n\\n\\n\\nWeighted-average shares outstanding, basic (in shares)\\n621,286\\n\\n275,455\\n\\n515,879\\n\\n250,783\\n\\n\\n\\nWeighted-average shares outstanding, diluted (in shares)\\n621,286\\n\\n275,455\\n\\n515,879\\n\\n250,783\\n\\n\\n\\n\\n\\nX\\n\\n- DefinitionThe gain (loss) recognized on the change in the fair value of the contingent earnout shares liability.\\n+ ReferencesNo definition available.\\n+ Details\\n\\n Name:\\ngoev_GainLossOnFairValueChangeInContingentEarnoutSharesLiability\\n\\n\\n Namespace Prefix:\\ngoev_\\n\\n\\n Data Type:\\nxbrli:monetaryItemType\\n\\n\\n Balance Type:\\ncredit\\n\\n\\n Period Type:\\nduration\\n\\n\\n\\n\\n\\nX\\n\\n- DefinitionLoss On Fair Value Change In Convertible Debt\\n+ ReferencesNo definition available.\\n+ Details\\n\\n Name:\\ngoev_LossOnFairValueChangeInConvertibleDebt\\n\\n\\n Namespace Prefix:\\ngoev_\\n\\n\\n Data Type:\\nxbrli:monetaryItemType\\n\\n\\n Balance Type:\\ncredit\\n\\n\\n Period Type:\\nduration\\n\\n\\n\\n\\n\\nX\\n\\n- DefinitionAmount after tax of increase (decrease) in equity from transactions and other events and circumstances from net income and other comprehensive income, attributable to parent entity. Excludes changes in equity resulting from investments by owners and distributions to owners.\\n+ ReferencesReference 1: http://www.xbrl.org/2003/role/disclosureRef -Topic 220 -SubTopic 10 -Name Accounting Standards Codification -Section S99 -Paragraph 2 -Subparagraph (SX 210.5-03(24)) -Publisher FASB -URI https://asc.fasb.org//1943274/2147483621/220-10-S99-2Reference 2: http://www.xbrl.org/2003/role/disclosureRef -Topic 942 -SubTopic 220 -Name Accounting Standards Codification -Section S99 -Paragraph 1 -Subparagraph (SX 210.9-04(26)) -Publisher FASB -URI https://asc.fasb.org//1943274/2147483589/942-220-S99-1Reference 3: http://www.xbrl.org/2003/role/disclosureRef -Topic 944 -SubTopic 220 -Name Accounting Standards Codification -Section S99 -Paragraph 1 -Subparagraph (SX 210.7-04(22)) -Publisher FASB -URI https://asc.fasb.org//1943274/2147483586/944-220-S99-1Reference 4: http://www.xbrl.org/2003/role/disclosureRef -Topic 220 -SubTopic 10 -Name Accounting Standards Codification -Section 45 -Paragraph 1A -Subparagraph (c) -Publisher FASB -URI https://asc.fasb.org//1943274/2147482790/220-10-45-1AReference 5: http://www.xbrl.org/2003/role/disclosureRef -Topic 220 -SubTopic 10 -Name Accounting Standards Codification -Section 45 -Paragraph 1B -Subparagraph (b) -Publisher FASB -URI https://asc.fasb.org//1943274/2147482790/220-10-45-1BReference 6: http://fasb.org/us-gaap/role/ref/legacyRef -Name Accounting Standards Codification -Topic 220 -SubTopic 10 -Section 45 -Paragraph 5 -Publisher FASB -URI https://asc.fasb.org//1943274/2147482790/220-10-45-5\\n+ Details\\n\\n Name:\\nus-gaap_ComprehensiveIncomeNetOfTax\\n\\n\\n Namespace Prefix:\\nus-gaap_\\n\\n\\n Data Type:\\nxbrli:monetaryItemType\\n\\n\\n Balance Type:\\ncredit\\n\\n\\n Period Type:\\nduration\\n\\n\\n\\n\\n\\nX\\n\\n- DefinitionCost of product sold and service rendered, excluding depreciation, depletion, and amortization.\\n+ ReferencesReference 1: http://www.xbrl.org/2009/role/commonPracticeRef -Name Accounting Standards Codification -Section S99 -Paragraph 2 -Subparagraph (SX 210.5-03(2)(a)) -SubTopic 10 -Topic 220 -Publisher FASB -URI https://asc.fasb.org//1943274/2147483621/220-10-S99-2Reference 2: http://www.xbrl.org/2009/role/commonPracticeRef -Name Accounting Standards Codification -Section S99 -Paragraph 2 -Subparagraph (SX 210.5-03(2)(d)) -SubTopic 10 -Topic 220 -Publisher FASB -URI https://asc.fasb.org//1943274/2147483621/220-10-S99-2\\n+ Details\\n\\n Name:\\nus-gaap_CostOfGoodsAndServiceExcludingDepreciationDepletionAndAmortization\\n\\n\\n Namespace Prefix:\\nus-gaap_\\n\\n\\n Data Type:\\nxbrli:monetaryItemType\\n\\n\\n Balance Type:\\ndebit\\n\\n\\n Period Type:\\nduration\\n\\n\\n\\n\\n\\nX\\n\\n- DefinitionTotal costs of sales and operating expenses for the period.\\n+ ReferencesReference 1: http://fasb.org/us-gaap/role/ref/legacyRef -Topic 220 -SubTopic 10 -Name Accounting Standards Codification -Section S99 -Paragraph 2 -Subparagraph (SX 210.5-03) -Publisher FASB -URI https://asc.fasb.org//1943274/2147483621/220-10-S99-2\\n+ Details\\n\\n Name:\\nus-gaap_CostsAndExpenses\\n\\n\\n Namespace Prefix:\\nus-gaap_\\n\\n\\n Data Type:\\nxbrli:monetaryItemType\\n\\n\\n Balance Type:\\ndebit\\n\\n\\n Period Type:\\nduration\\n\\n\\n\\n\\n\\nX\\n\\n- ReferencesNo definition available.\\n+ Details\\n\\n Name:\\nus-gaap_CostsAndExpensesAbstract\\n\\n\\n Namespace Prefix:\\nus-gaap_\\n\\n\\n Data Type:\\nxbrli:stringItemType\\n\\n\\n Balance Type:\\nna\\n\\n\\n Period Type:\\nduration\\n\\n\\n\\n\\n\\nX\\n\\n- DefinitionThe amount of expense recognized in the current period that reflects the allocation of the cost of tangible assets over the assets' useful lives. Includes production and non-production related depreciation.\\n+ ReferencesReference 1: http://fasb.org/us-gaap/role/ref/legacyRef -Name Accounting Standards Codification -Section 45 -Paragraph 28 -Subparagraph (b) -SubTopic 10 -Topic 230 -Publisher FASB -URI https://asc.fasb.org//1943274/2147482740/230-10-45-28Reference 2: http://fasb.org/us-gaap/role/ref/legacyRef -Name Accounting Standards Codification -Topic 360 -SubTopic 10 -Section 50 -Paragraph 1 -Subparagraph (a) -Publisher FASB -URI https://asc.fasb.org//1943274/2147482099/360-10-50-1\\n+ Details\\n\\n Name:\\nus-gaap_Depreciation\\n\\n\\n Namespace Prefix:\\nus-gaap_\\n\\n\\n Data Type:\\nxbrli:monetaryItemType\\n\\n\\n Balance Type:\\ndebit\\n\\n\\n Period Type:\\nduration\\n\\n\\n\\n\\n\\nX\\n\\n- DefinitionAmount of decrease in the fair value of derivatives recognized in the income statement.\\n+ ReferencesReference 1: http://www.xbrl.org/2003/role/disclosureRef -Topic 815 -SubTopic 10 -Name Accounting Standards Codification -Section 50 -Paragraph 4A -Subparagraph (b)(1) -Publisher FASB -URI https://asc.fasb.org//1943274/2147480434/815-10-50-4A\\n+ Details\\n\\n Name:\\nus-gaap_DerivativeLossOnDerivative\\n\\n\\n Namespace Prefix:\\nus-gaap_\\n\\n\\n Data Type:\\nxbrli:monetaryItemType\\n\\n\\n Balance Type:\\ndebit\\n\\n\\n Period Type:\\nduration\\n\\n\\n\\n\\n\\nX\\n\\n- ReferencesNo definition available.\\n+ Details\\n\\n Name:\\nus-gaap_EarningsPerShareAbstract\\n\\n\\n Namespace Prefix:\\nus-gaap_\\n\\n\\n Data Type:\\nxbrli:stringItemType\\n\\n\\n Balance Type:\\nna\\n\\n\\n Period Type:\\nduration\\n\\n\\n\\n\\n\\nX\\n\\n- DefinitionThe amount of net income (loss) for the period per each share of common stock or unit outstanding during the reporting period.\\n+ ReferencesReference 1: http://www.xbrl.org/2003/role/disclosureRef -Topic 250 -SubTopic 10 -Name Accounting Standards Codification -Section 50 -Paragraph 3 -Publisher FASB -URI https://asc.fasb.org//1943274/2147483443/250-10-50-3Reference 2: http://www.xbrl.org/2003/role/disclosureRef -Topic 260 -SubTopic 10 -Name Accounting Standards Codification -Section 55 -Paragraph 15 -Publisher FASB -URI https://asc.fasb.org//1943274/2147482635/260-10-55-15Reference 3: http://www.xbrl.org/2003/role/disclosureRef -Topic 815 -SubTopic 40 -Name Accounting Standards Codification -Section 65 -Paragraph 1 -Subparagraph (e)(4) -Publisher FASB -URI https://asc.fasb.org//1943274/2147480175/815-40-65-1Reference 4: http://www.xbrl.org/2003/role/disclosureRef -Topic 815 -SubTopic 40 -Name Accounting Standards Codification -Section 65 -Paragraph 1 -Subparagraph (f) -Publisher FASB -URI https://asc.fasb.org//1943274/2147480175/815-40-65-1Reference 5: http://www.xbrl.org/2003/role/disclosureRef -Topic 250 -SubTopic 10 -Name Accounting Standards Codification -Section 50 -Paragraph 11 -Subparagraph (a) -Publisher FASB -URI https://asc.fasb.org//1943274/2147483443/250-10-50-11Reference 6: http://www.xbrl.org/2003/role/disclosureRef -Topic 250 -SubTopic 10 -Name Accounting Standards Codification -Section 50 -Paragraph 11 -Subparagraph (b) -Publisher FASB -URI https://asc.fasb.org//1943274/2147483443/250-10-50-11Reference 7: http://www.xbrl.org/2003/role/disclosureRef -Topic 250 -SubTopic 10 -Name Accounting Standards Codification -Section 50 -Paragraph 7 -Subparagraph (a) -Publisher FASB -URI https://asc.fasb.org//1943274/2147483443/250-10-50-7Reference 8: http://www.xbrl.org/2003/role/disclosureRef -Topic 260 -SubTopic 10 -Name Accounting Standards Codification -Section 45 -Paragraph 2 -Publisher FASB -URI https://asc.fasb.org//1943274/2147482689/260-10-45-2Reference 9: http://www.xbrl.org/2003/role/disclosureRef -Topic 260 -SubTopic 10 -Name Accounting Standards Codification -Section 45 -Paragraph 60B -Subparagraph (d) -Publisher FASB -URI https://asc.fasb.org//1943274/2147482689/260-10-45-60BReference 10: http://www.xbrl.org/2003/role/disclosureRef -Topic 250 -SubTopic 10 -Name Accounting Standards Codification -Section 50 -Paragraph 4 -Publisher FASB -URI https://asc.fasb.org//1943274/2147483443/250-10-50-4Reference 11: http://www.xbrl.org/2003/role/disclosureRef -Topic 260 -SubTopic 10 -Name Accounting Standards Codification -Section 50 -Paragraph 1 -Subparagraph (a) -Publisher FASB -URI https://asc.fasb.org//1943274/2147482662/260-10-50-1Reference 12: http://www.xbrl.org/2003/role/disclosureRef -Topic 260 -SubTopic 10 -Name Accounting Standards Codification -Section 45 -Paragraph 10 -Publisher FASB -URI https://asc.fasb.org//1943274/2147482689/260-10-45-10Reference 13: http://www.xbrl.org/2003/role/disclosureRef -Topic 220 -SubTopic 10 -Name Accounting Standards Codification -Section S99 -Paragraph 2 -Subparagraph (SX 210.5-03(25)) -Publisher FASB -URI https://asc.fasb.org//1943274/2147483621/220-10-S99-2Reference 14: http://www.xbrl.org/2003/role/disclosureRef -Topic 942 -SubTopic 220 -Name Accounting Standards Codification -Section S99 -Paragraph 1 -Subparagraph (SX 210.9-04(27)) -Publisher FASB -URI https://asc.fasb.org//1943274/2147483589/942-220-S99-1Reference 15: http://www.xbrl.org/2003/role/disclosureRef -Topic 944 -SubTopic 220 -Name Accounting Standards Codification -Section S99 -Paragraph 1 -Subparagraph (SX 210.7-04(23)) -Publisher FASB -URI https://asc.fasb.org//1943274/2147483586/944-220-S99-1Reference 16: http://www.xbrl.org/2003/role/exampleRef -Topic 260 -SubTopic 10 -Name Accounting Standards Codification -Section 55 -Paragraph 52 -Publisher FASB -URI https://asc.fasb.org//1943274/2147482635/260-10-55-52Reference 17: http://www.xbrl.org/2003/role/disclosureRef -Topic 260 -SubTopic 10 -Name Accounting Standards Codification -Section 45 -Paragraph 7 -Publisher FASB -URI https://asc.fasb.org//1943274/2147482689/260-10-45-7\\n+ Details\\n\\n Name:\\nus-gaap_EarningsPerShareBasic\\n\\n\\n Namespace Prefix:\\nus-gaap_\\n\\n\\n Data Type:\\ndtr-types:perShareItemType\\n\\n\\n Balance Type:\\nna\\n\\n\\n Period Type:\\nduration\\n\\n\\n\\n\\n\\nX\\n\\n- DefinitionThe amount of net income (loss) for the period available to each share of common stock or common unit outstanding during the reporting period and to each share or unit that would have been outstanding assuming the issuance of common shares or units for all dilutive potential common shares or units outstanding during the reporting period.\\n+ ReferencesReference 1: http://www.xbrl.org/2003/role/disclosureRef -Topic 250 -SubTopic 10 -Name Accounting Standards Codification -Section 50 -Paragraph 3 -Publisher FASB -URI https://asc.fasb.org//1943274/2147483443/250-10-50-3Reference 2: http://www.xbrl.org/2003/role/disclosureRef -Topic 260 -SubTopic 10 -Name Accounting Standards Codification -Section 55 -Paragraph 15 -Publisher FASB -URI https://asc.fasb.org//1943274/2147482635/260-10-55-15Reference 3: http://www.xbrl.org/2003/role/disclosureRef -Topic 815 -SubTopic 40 -Name Accounting Standards Codification -Section 65 -Paragraph 1 -Subparagraph (e)(4) -Publisher FASB -URI https://asc.fasb.org//1943274/2147480175/815-40-65-1Reference 4: http://www.xbrl.org/2003/role/disclosureRef -Topic 815 -SubTopic 40 -Name Accounting Standards Codification -Section 65 -Paragraph 1 -Subparagraph (f) -Publisher FASB -URI https://asc.fasb.org//1943274/2147480175/815-40-65-1Reference 5: http://www.xbrl.org/2003/role/disclosureRef -Topic 250 -SubTopic 10 -Name Accounting Standards Codification -Section 50 -Paragraph 11 -Subparagraph (a) -Publisher FASB -URI https://asc.fasb.org//1943274/2147483443/250-10-50-11Reference 6: http://www.xbrl.org/2003/role/disclosureRef -Topic 250 -SubTopic 10 -Name Accounting Standards Codification -Section 50 -Paragraph 11 -Subparagraph (b) -Publisher FASB -URI https://asc.fasb.org//1943274/2147483443/250-10-50-11Reference 7: http://www.xbrl.org/2003/role/disclosureRef -Topic 250 -SubTopic 10 -Name Accounting Standards Codification -Section 50 -Paragraph 7 -Subparagraph (a) -Publisher FASB -URI https://asc.fasb.org//1943274/2147483443/250-10-50-7Reference 8: http://www.xbrl.org/2003/role/disclosureRef -Topic 260 -SubTopic 10 -Name Accounting Standards Codification -Section 45 -Paragraph 2 -Publisher FASB -URI https://asc.fasb.org//1943274/2147482689/260-10-45-2Reference 9: http://www.xbrl.org/2003/role/disclosureRef -Topic 260 -SubTopic 10 -Name Accounting Standards Codification -Section 45 -Paragraph 60B -Subparagraph (d) -Publisher FASB -URI https://asc.fasb.org//1943274/2147482689/260-10-45-60BReference 10: http://www.xbrl.org/2003/role/disclosureRef -Topic 250 -SubTopic 10 -Name Accounting Standards Codification -Section 50 -Paragraph 4 -Publisher FASB -URI https://asc.fasb.org//1943274/2147483443/250-10-50-4Reference 11: http://www.xbrl.org/2003/role/disclosureRef -Topic 260 -SubTopic 10 -Name Accounting Standards Codification -Section 50 -Paragraph 1 -Subparagraph (a) -Publisher FASB -URI https://asc.fasb.org//1943274/2147482662/260-10-50-1Reference 12: http://www.xbrl.org/2003/role/disclosureRef -Topic 220 -SubTopic 10 -Name Accounting Standards Codification -Section S99 -Paragraph 2 -Subparagraph (SX 210.5-03(25)) -Publisher FASB -URI https://asc.fasb.org//1943274/2147483621/220-10-S99-2Reference 13: http://www.xbrl.org/2003/role/disclosureRef -Topic 942 -SubTopic 220 -Name Accounting Standards Codification -Section S99 -Paragraph 1 -Subparagraph (SX 210.9-04(27)) -Publisher FASB -URI https://asc.fasb.org//1943274/2147483589/942-220-S99-1Reference 14: http://www.xbrl.org/2003/role/disclosureRef -Topic 944 -SubTopic 220 -Name Accounting Standards Codification -Section S99 -Paragraph 1 -Subparagraph (SX 210.7-04(23)) -Publisher FASB -URI https://asc.fasb.org//1943274/2147483586/944-220-S99-1Reference 15: http://www.xbrl.org/2003/role/exampleRef -Topic 260 -SubTopic 10 -Name Accounting Standards Codification -Section 55 -Paragraph 52 -Publisher FASB -URI https://asc.fasb.org//1943274/2147482635/260-10-55-52Reference 16: http://www.xbrl.org/2003/role/disclosureRef -Topic 260 -SubTopic 10 -Name Accounting Standards Codification -Section 45 -Paragraph 7 -Publisher FASB -URI https://asc.fasb.org//1943274/2147482689/260-10-45-7\\n+ Details\\n\\n Name:\\nus-gaap_EarningsPerShareDiluted\\n\\n\\n Namespace Prefix:\\nus-gaap_\\n\\n\\n Data Type:\\ndtr-types:perShareItemType\\n\\n\\n Balance Type:\\nna\\n\\n\\n Period Type:\\nduration\\n\\n\\n\\n\\n\\nX\\n\\n- DefinitionFor each line item in the statement of financial position, the amounts of gains and losses from fair value changes included in earnings.\\n+ ReferencesReference 1: http://fasb.org/us-gaap/role/ref/legacyRef -Name Accounting Standards Codification -Topic 825 -SubTopic 10 -Section 50 -Paragraph 30 -Subparagraph (a) -Publisher FASB -URI https://asc.fasb.org//1943274/2147482907/825-10-50-30\\n+ Details\\n\\n Name:\\nus-gaap_FairValueOptionChangesInFairValueGainLoss1\\n\\n\\n Namespace Prefix:\\nus-gaap_\\n\\n\\n Data Type:\\nxbrli:monetaryItemType\\n\\n\\n Balance Type:\\ncredit\\n\\n\\n Period Type:\\nduration\\n\\n\\n\\n\\n\\nX\\n\\n- DefinitionDifference between the fair value of payments made and the carrying amount of debt which is extinguished prior to maturity.\\n+ ReferencesReference 1: http://fasb.org/us-gaap/role/ref/legacyRef -Name Accounting Standards Codification -Section 45 -Paragraph 28 -Subparagraph (b) -SubTopic 10 -Topic 230 -Publisher FASB -URI https://asc.fasb.org//1943274/2147482740/230-10-45-28Reference 2: http://fasb.org/us-gaap/role/ref/legacyRef -Name Accounting Standards Codification -Topic 470 -SubTopic 50 -Section 40 -Paragraph 2 -Publisher FASB -URI https://asc.fasb.org//1943274/2147481303/470-50-40-2Reference 3: http://fasb.org/us-gaap/role/ref/legacyRef -Name Accounting Standards Codification -Topic 470 -SubTopic 50 -Section 40 -Paragraph 4 -Publisher FASB -URI https://asc.fasb.org//1943274/2147481303/470-50-40-4\\n+ Details\\n\\n Name:\\nus-gaap_GainsLossesOnExtinguishmentOfDebt\\n\\n\\n Namespace Prefix:\\nus-gaap_\\n\\n\\n Data Type:\\nxbrli:monetaryItemType\\n\\n\\n Balance Type:\\ncredit\\n\\n\\n Period Type:\\nduration\\n\\n\\n\\n\\n\\nX\\n\\n- DefinitionAggregate revenue less cost of goods and services sold or operating expenses directly attributable to the revenue generation activity.\\n+ ReferencesReference 1: http://www.xbrl.org/2003/role/disclosureRef -Topic 235 -SubTopic 10 -Name Accounting Standards Codification -Section S99 -Paragraph 1 -Subparagraph (SX 210.4-08(g)(1)(ii)) -Publisher FASB -URI https://asc.fasb.org//1943274/2147480678/235-10-S99-1Reference 2: http://www.xbrl.org/2003/role/disclosureRef -Topic 323 -SubTopic 10 -Name Accounting Standards Codification -Section 50 -Paragraph 3 -Subparagraph (c) -Publisher FASB -URI https://asc.fasb.org//1943274/2147481687/323-10-50-3Reference 3: http://www.xbrl.org/2003/role/disclosureRef -Topic 825 -SubTopic 10 -Name Accounting Standards Codification -Section 50 -Paragraph 28 -Subparagraph (f) -Publisher FASB -URI https://asc.fasb.org//1943274/2147482907/825-10-50-28Reference 4: http://www.xbrl.org/2003/role/disclosureRef -Topic 280 -SubTopic 10 -Name Accounting Standards Codification -Section 50 -Paragraph 22 -Publisher FASB -URI https://asc.fasb.org//1943274/2147482810/280-10-50-22Reference 5: http://www.xbrl.org/2003/role/disclosureRef -Topic 470 -SubTopic 10 -Name Accounting Standards Codification -Section S99 -Paragraph 1A -Subparagraph (SX 210.13-01(a)(4)(i)) -Publisher FASB -URI https://asc.fasb.org//1943274/2147480097/470-10-S99-1AReference 6: http://www.xbrl.org/2009/role/commonPracticeRef -Topic 470 -SubTopic 10 -Name Accounting Standards Codification -Section S99 -Paragraph 1A -Subparagraph (SX 210.13-01(a)(4)(ii)) -Publisher FASB -URI https://asc.fasb.org//1943274/2147480097/470-10-S99-1AReference 7: http://www.xbrl.org/2003/role/disclosureRef -Topic 470 -SubTopic 10 -Name Accounting Standards Codification -Section S99 -Paragraph 1A -Subparagraph (SX 210.13-01(a)(4)(iii)(A)) -Publisher FASB -URI https://asc.fasb.org//1943274/2147480097/470-10-S99-1AReference 8: http://www.xbrl.org/2003/role/disclosureRef -Topic 470 -SubTopic 10 -Name Accounting Standards Codification -Section S99 -Paragraph 1A -Subparagraph (SX 210.13-01(a)(4)(iv)) -Publisher FASB -URI https://asc.fasb.org//1943274/2147480097/470-10-S99-1AReference 9: http://www.xbrl.org/2003/role/disclosureRef -Topic 470 -SubTopic 10 -Name Accounting Standards Codification -Section S99 -Paragraph 1A -Subparagraph (SX 210.13-01(a)(5)) -Publisher FASB -URI https://asc.fasb.org//1943274/2147480097/470-10-S99-1AReference 10: http://www.xbrl.org/2003/role/disclosureRef -Topic 470 -SubTopic 10 -Name Accounting Standards Codification -Section S99 -Paragraph 1B -Subparagraph (SX 210.13-02(a)(4)(i)) -Publisher FASB -URI https://asc.fasb.org//1943274/2147480097/470-10-S99-1BReference 11: http://www.xbrl.org/2003/role/disclosureRef -Topic 470 -SubTopic 10 -Name Accounting Standards Codification -Section S99 -Paragraph 1B -Subparagraph (SX 210.13-02(a)(4)(iii)(A)) -Publisher FASB -URI https://asc.fasb.org//1943274/2147480097/470-10-S99-1BReference 12: http://www.xbrl.org/2003/role/disclosureRef -Topic 470 -SubTopic 10 -Name Accounting Standards Codification -Section S99 -Paragraph 1B -Subparagraph (SX 210.13-02(a)(4)(iii)(B)) -Publisher FASB -URI https://asc.fasb.org//1943274/2147480097/470-10-S99-1BReference 13: http://www.xbrl.org/2003/role/disclosureRef -Topic 470 -SubTopic 10 -Name Accounting Standards Codification -Section S99 -Paragraph 1B -Subparagraph (SX 210.13-02(a)(4)(iv)) -Publisher FASB -URI https://asc.fasb.org//1943274/2147480097/470-10-S99-1BReference 14: http://www.xbrl.org/2003/role/disclosureRef -Topic 470 -SubTopic 10 -Name Accounting Standards Codification -Section S99 -Paragraph 1B -Subparagraph (SX 210.13-02(a)(5)) -Publisher FASB -URI https://asc.fasb.org//1943274/2147480097/470-10-S99-1BReference 15: http://www.xbrl.org/2003/role/disclosureRef -Topic 280 -SubTopic 10 -Name Accounting Standards Codification -Section 50 -Paragraph 30 -Subparagraph (b) -Publisher FASB -URI https://asc.fasb.org//1943274/2147482810/280-10-50-30Reference 16: http://www.xbrl.org/2003/role/disclosureRef -Topic 280 -SubTopic 10 -Name Accounting Standards Codification -Section 50 -Paragraph 32 -Subparagraph (f) -Publisher FASB -URI https://asc.fasb.org//1943274/2147482810/280-10-50-32Reference 17: http://www.xbrl.org/2003/role/exampleRef -Topic 280 -SubTopic 10 -Name Accounting Standards Codification -Section 50 -Paragraph 31 -Publisher FASB -URI https://asc.fasb.org//1943274/2147482810/280-10-50-31Reference 18: http://www.xbrl.org/2003/role/disclosureRef -Topic 280 -SubTopic 10 -Name Accounting Standards Codification -Section 50 -Paragraph 32 -Subparagraph (c) -Publisher FASB -URI https://asc.fasb.org//1943274/2147482810/280-10-50-32Reference 19: http://fasb.org/us-gaap/role/ref/legacyRef -Topic 220 -SubTopic 10 -Name Accounting Standards Codification -Section S99 -Paragraph 2 -Subparagraph (SX 210.5-03.1,2) -Publisher FASB -URI https://asc.fasb.org//1943274/2147483621/220-10-S99-2\\n+ Details\\n\\n Name:\\nus-gaap_GrossProfit\\n\\n\\n Namespace Prefix:\\nus-gaap_\\n\\n\\n Data Type:\\nxbrli:monetaryItemType\\n\\n\\n Balance Type:\\ncredit\\n\\n\\n Period Type:\\nduration\\n\\n\\n\\n\\n\\nX\\n\\n- DefinitionAmount of income (loss) from continuing operations, including income (loss) from equity method investments, before deduction of income tax expense (benefit), and income (loss) attributable to noncontrolling interest.\\n+ ReferencesReference 1: http://www.xbrl.org/2003/role/disclosureRef -Topic 944 -SubTopic 220 -Name Accounting Standards Codification -Section S99 -Paragraph 1 -Subparagraph (SX 210.7-04(11)) -Publisher FASB -URI https://asc.fasb.org//1943274/2147483586/944-220-S99-1Reference 2: http://www.xbrl.org/2003/role/disclosureRef -Topic 280 -SubTopic 10 -Name Accounting Standards Codification -Section 50 -Paragraph 22 -Publisher FASB -URI https://asc.fasb.org//1943274/2147482810/280-10-50-22Reference 3: http://www.xbrl.org/2003/role/disclosureRef -Topic 280 -SubTopic 10 -Name Accounting Standards Codification -Section 50 -Paragraph 30 -Subparagraph (b) -Publisher FASB -URI https://asc.fasb.org//1943274/2147482810/280-10-50-30Reference 4: http://www.xbrl.org/2003/role/disclosureRef -Topic 280 -SubTopic 10 -Name Accounting Standards Codification -Section 50 -Paragraph 32 -Subparagraph (f) -Publisher FASB -URI https://asc.fasb.org//1943274/2147482810/280-10-50-32Reference 5: http://www.xbrl.org/2003/role/exampleRef -Topic 280 -SubTopic 10 -Name Accounting Standards Codification -Section 50 -Paragraph 31 -Publisher FASB -URI https://asc.fasb.org//1943274/2147482810/280-10-50-31Reference 6: http://www.xbrl.org/2003/role/disclosureRef -Topic 280 -SubTopic 10 -Name Accounting Standards Codification -Section 50 -Paragraph 32 -Subparagraph (c) -Publisher FASB -URI https://asc.fasb.org//1943274/2147482810/280-10-50-32Reference 7: http://www.xbrl.org/2003/role/disclosureRef -Topic 942 -SubTopic 235 -Name Accounting Standards Codification -Section S99 -Paragraph 1 -Subparagraph (SX 210.9-05(b)(2)) -Publisher FASB -URI https://asc.fasb.org//1943274/2147479557/942-235-S99-1Reference 8: http://fasb.org/us-gaap/role/ref/legacyRef -Name Accounting Standards Codification -Section 25 -Paragraph 1 -SubTopic 20 -Topic 940 -Publisher FASB -URI https://asc.fasb.org//1943274/2147481913/940-20-25-1Reference 9: http://fasb.org/us-gaap/role/ref/legacyRef -Topic 220 -SubTopic 10 -Name Accounting Standards Codification -Section S99 -Paragraph 2 -Subparagraph (SX 210.5-03(10)) -Publisher FASB -URI https://asc.fasb.org//1943274/2147483621/220-10-S99-2Reference 10: http://fasb.org/us-gaap/role/ref/legacyRef -Topic 942 -SubTopic 220 -Name Accounting Standards Codification -Section S99 -Paragraph 1 -Subparagraph (SX 210.9-04(15)) -Publisher FASB -URI https://asc.fasb.org//1943274/2147483589/942-220-S99-1\\n+ Details\\n\\n Name:\\nus-gaap_IncomeLossFromContinuingOperationsBeforeIncomeTaxesExtraordinaryItemsNoncontrollingInterest\\n\\n\\n Namespace Prefix:\\nus-gaap_\\n\\n\\n Data Type:\\nxbrli:monetaryItemType\\n\\n\\n Balance Type:\\ncredit\\n\\n\\n Period Type:\\nduration\\n\\n\\n\\n\\n\\nX\\n\\n- ReferencesNo definition available.\\n+ Details\\n\\n Name:\\nus-gaap_IncomeStatementAbstract\\n\\n\\n Namespace Prefix:\\nus-gaap_\\n\\n\\n Data Type:\\nxbrli:stringItemType\\n\\n\\n Balance Type:\\nna\\n\\n\\n Period Type:\\nduration\\n\\n\\n\\n\\n\\nX\\n\\n- DefinitionAmount of current income tax expense (benefit) and deferred income tax expense (benefit) pertaining to continuing operations.\\n+ ReferencesReference 1: http://www.xbrl.org/2003/role/disclosureRef -Topic 250 -SubTopic 10 -Name Accounting Standards Codification -Section 50 -Paragraph 8 -Publisher FASB -URI https://asc.fasb.org//1943274/2147483443/250-10-50-8Reference 2: http://www.xbrl.org/2003/role/disclosureRef -Topic 250 -SubTopic 10 -Name Accounting Standards Codification -Section 50 -Paragraph 9 -Publisher FASB -URI https://asc.fasb.org//1943274/2147483443/250-10-50-9Reference 3: http://www.xbrl.org/2003/role/disclosureRef -Topic 740 -SubTopic 10 -Name Accounting Standards Codification -Section 50 -Paragraph 10 -Publisher FASB -URI https://asc.fasb.org//1943274/2147482685/740-10-50-10Reference 4: http://www.xbrl.org/2003/role/disclosureRef -Topic 740 -SubTopic 10 -Name Accounting Standards Codification -Section S99 -Paragraph 1 -Subparagraph (SAB TOPIC 6.I.7) -Publisher FASB -URI https://asc.fasb.org//1943274/2147479360/740-10-S99-1Reference 5: http://www.xbrl.org/2003/role/disclosureRef -Topic 280 -SubTopic 10 -Name Accounting Standards Codification -Section 50 -Paragraph 22 -Subparagraph (h) -Publisher FASB -URI https://asc.fasb.org//1943274/2147482810/280-10-50-22Reference 6: http://www.xbrl.org/2003/role/disclosureRef -Topic 944 -SubTopic 220 -Name Accounting Standards Codification -Section S99 -Paragraph 1 -Subparagraph (SX 210.7-04(9)) -Publisher FASB -URI https://asc.fasb.org//1943274/2147483586/944-220-S99-1Reference 7: http://www.xbrl.org/2003/role/disclosureRef -Name Accounting Standards Codification -Section 45 -Paragraph 2 -Subparagraph (a) -SubTopic 20 -Topic 740 -Publisher FASB -URI https://asc.fasb.org//1943274/2147482659/740-20-45-2Reference 8: http://www.xbrl.org/2003/role/disclosureRef -Name Accounting Standards Codification -Section S99 -Paragraph 1 -Subparagraph (SX 210.4-08(h)) -SubTopic 10 -Topic 235 -Publisher FASB -URI https://asc.fasb.org//1943274/2147480678/235-10-S99-1\\n+ Details\\n\\n Name:\\nus-gaap_IncomeTaxExpenseBenefit\\n\\n\\n Namespace Prefix:\\nus-gaap_\\n\\n\\n Data Type:\\nxbrli:monetaryItemType\\n\\n\\n Balance Type:\\ndebit\\n\\n\\n Period Type:\\nduration\\n\\n\\n\\n\\n\\nX\\n\\n- DefinitionThe net amount of nonoperating interest income (expense).\\n+ ReferencesNo definition available.\\n+ Details\\n\\n Name:\\nus-gaap_InterestIncomeExpenseNonoperatingNet\\n\\n\\n Namespace Prefix:\\nus-gaap_\\n\\n\\n Data Type:\\nxbrli:monetaryItemType\\n\\n\\n Balance Type:\\ncredit\\n\\n\\n Period Type:\\nduration\\n\\n\\n\\n\\n\\nX\\n\\n- DefinitionThe portion of profit or loss for the period, net of income taxes, which is attributable to the parent.\\n+ ReferencesReference 1: http://www.xbrl.org/2003/role/disclosureRef -Topic 235 -SubTopic 10 -Name Accounting Standards Codification -Section S99 -Paragraph 1 -Subparagraph (SX 210.4-08(g)(1)(ii)) -Publisher FASB -URI https://asc.fasb.org//1943274/2147480678/235-10-S99-1Reference 2: http://www.xbrl.org/2003/role/disclosureRef -Topic 323 -SubTopic 10 -Name Accounting Standards Codification -Section 50 -Paragraph 3 -Subparagraph (c) -Publisher FASB -URI https://asc.fasb.org//1943274/2147481687/323-10-50-3Reference 3: http://www.xbrl.org/2003/role/disclosureRef -Topic 825 -SubTopic 10 -Name Accounting Standards Codification -Section 50 -Paragraph 28 -Subparagraph (f) -Publisher FASB -URI https://asc.fasb.org//1943274/2147482907/825-10-50-28Reference 4: http://www.xbrl.org/2003/role/disclosureRef -Topic 220 -SubTopic 10 -Name Accounting Standards Codification -Section 50 -Paragraph 6 -Publisher FASB -URI https://asc.fasb.org//1943274/2147482765/220-10-50-6Reference 5: http://www.xbrl.org/2003/role/disclosureRef -Topic 250 -SubTopic 10 -Name Accounting Standards Codification -Section 50 -Paragraph 3 -Publisher FASB -URI https://asc.fasb.org//1943274/2147483443/250-10-50-3Reference 6: http://www.xbrl.org/2003/role/disclosureRef -Topic 250 -SubTopic 10 -Name Accounting Standards Codification -Section 50 -Paragraph 1 -Subparagraph (b)(2) -Publisher FASB -URI https://asc.fasb.org//1943274/2147483443/250-10-50-1Reference 7: http://www.xbrl.org/2003/role/disclosureRef -Topic 815 -SubTopic 40 -Name Accounting Standards Codification -Section 65 -Paragraph 1 -Subparagraph (f) -Publisher FASB -URI https://asc.fasb.org//1943274/2147480175/815-40-65-1Reference 8: http://www.xbrl.org/2003/role/disclosureRef -Topic 250 -SubTopic 10 -Name Accounting Standards Codification -Section 50 -Paragraph 8 -Publisher FASB -URI https://asc.fasb.org//1943274/2147483443/250-10-50-8Reference 9: http://www.xbrl.org/2003/role/disclosureRef -Topic 250 -SubTopic 10 -Name Accounting Standards Codification -Section 50 -Paragraph 9 -Publisher FASB -URI https://asc.fasb.org//1943274/2147483443/250-10-50-9Reference 10: http://www.xbrl.org/2003/role/disclosureRef -Topic 250 -SubTopic 10 -Name Accounting Standards Codification -Section 50 -Paragraph 11 -Subparagraph (a) -Publisher FASB -URI https://asc.fasb.org//1943274/2147483443/250-10-50-11Reference 11: http://www.xbrl.org/2003/role/disclosureRef -Topic 250 -SubTopic 10 -Name Accounting Standards Codification -Section 50 -Paragraph 11 -Subparagraph (b) -Publisher FASB -URI https://asc.fasb.org//1943274/2147483443/250-10-50-11Reference 12: http://www.xbrl.org/2003/role/disclosureRef -Topic 250 -SubTopic 10 -Name Accounting Standards Codification -Section 50 -Paragraph 4 -Publisher FASB -URI https://asc.fasb.org//1943274/2147483443/250-10-50-4Reference 13: http://www.xbrl.org/2003/role/exampleRef -Topic 946 -SubTopic 830 -Name Accounting Standards Codification -Section 55 -Paragraph 10 -Publisher FASB -URI https://asc.fasb.org//1943274/2147480167/946-830-55-10Reference 14: http://www.xbrl.org/2003/role/disclosureRef -Topic 946 -SubTopic 220 -Name Accounting Standards Codification -Section 45 -Paragraph 7 -Publisher FASB -URI https://asc.fasb.org//1943274/2147483581/946-220-45-7Reference 15: http://www.xbrl.org/2003/role/disclosureRef -Topic 944 -SubTopic 220 -Name Accounting Standards Codification -Section S99 -Paragraph 1 -Subparagraph (SX 210.7-04(18)) -Publisher FASB -URI https://asc.fasb.org//1943274/2147483586/944-220-S99-1Reference 16: http://www.xbrl.org/2003/role/disclosureRef -Topic 280 -SubTopic 10 -Name Accounting Standards Codification -Section 50 -Paragraph 22 -Publisher FASB -URI https://asc.fasb.org//1943274/2147482810/280-10-50-22Reference 17: http://www.xbrl.org/2003/role/disclosureRef -Topic 946 -SubTopic 220 -Name Accounting Standards Codification -Section S99 -Paragraph 1 -Subparagraph (SX 210.6-07(9)) -Publisher FASB -URI https://asc.fasb.org//1943274/2147483575/946-220-S99-1Reference 18: http://www.xbrl.org/2003/role/disclosureRef -Topic 946 -SubTopic 220 -Name Accounting Standards Codification -Section S99 -Paragraph 3 -Subparagraph (SX 210.6-09(1)(d)) -Publisher FASB -URI https://asc.fasb.org//1943274/2147483575/946-220-S99-3Reference 19: http://www.xbrl.org/2003/role/disclosureRef -Topic 470 -SubTopic 10 -Name Accounting Standards Codification -Section S99 -Paragraph 1A -Subparagraph (SX 210.13-01(a)(4)(i)) -Publisher FASB -URI https://asc.fasb.org//1943274/2147480097/470-10-S99-1AReference 20: http://www.xbrl.org/2009/role/commonPracticeRef -Topic 470 -SubTopic 10 -Name Accounting Standards Codification -Section S99 -Paragraph 1A -Subparagraph (SX 210.13-01(a)(4)(ii)) -Publisher FASB -URI https://asc.fasb.org//1943274/2147480097/470-10-S99-1AReference 21: http://www.xbrl.org/2003/role/disclosureRef -Topic 470 -SubTopic 10 -Name Accounting Standards Codification -Section S99 -Paragraph 1A -Subparagraph (SX 210.13-01(a)(4)(iii)(A)) -Publisher FASB -URI https://asc.fasb.org//1943274/2147480097/470-10-S99-1AReference 22: http://www.xbrl.org/2003/role/disclosureRef -Topic 470 -SubTopic 10 -Name Accounting Standards Codification -Section S99 -Paragraph 1A -Subparagraph (SX 210.13-01(a)(4)(iv)) -Publisher FASB -URI https://asc.fasb.org//1943274/2147480097/470-10-S99-1AReference 23: http://www.xbrl.org/2003/role/disclosureRef -Topic 470 -SubTopic 10 -Name Accounting Standards Codification -Section S99 -Paragraph 1A -Subparagraph (SX 210.13-01(a)(5)) -Publisher FASB -URI https://asc.fasb.org//1943274/2147480097/470-10-S99-1AReference 24: http://www.xbrl.org/2003/role/disclosureRef -Topic 470 -SubTopic 10 -Name Accounting Standards Codification -Section S99 -Paragraph 1B -Subparagraph (SX 210.13-02(a)(4)(i)) -Publisher FASB -URI https://asc.fasb.org//1943274/2147480097/470-10-S99-1BReference 25: http://www.xbrl.org/2003/role/disclosureRef -Topic 470 -SubTopic 10 -Name Accounting Standards Codification -Section S99 -Paragraph 1B -Subparagraph (SX 210.13-02(a)(4)(iii)(A)) -Publisher FASB -URI https://asc.fasb.org//1943274/2147480097/470-10-S99-1BReference 26: http://www.xbrl.org/2003/role/disclosureRef -Topic 470 -SubTopic 10 -Name Accounting Standards Codification -Section S99 -Paragraph 1B -Subparagraph (SX 210.13-02(a)(4)(iii)(B)) -Publisher FASB -URI https://asc.fasb.org//1943274/2147480097/470-10-S99-1BReference 27: http://www.xbrl.org/2003/role/disclosureRef -Topic 470 -SubTopic 10 -Name Accounting Standards Codification -Section S99 -Paragraph 1B -Subparagraph (SX 210.13-02(a)(4)(iv)) -Publisher FASB -URI https://asc.fasb.org//1943274/2147480097/470-10-S99-1BReference 28: http://www.xbrl.org/2003/role/disclosureRef -Topic 470 -SubTopic 10 -Name Accounting Standards Codification -Section S99 -Paragraph 1B -Subparagraph (SX 210.13-02(a)(5)) -Publisher FASB -URI https://asc.fasb.org//1943274/2147480097/470-10-S99-1BReference 29: http://www.xbrl.org/2003/role/disclosureRef -Topic 280 -SubTopic 10 -Name Accounting Standards Codification -Section 50 -Paragraph 30 -Subparagraph (b) -Publisher FASB -URI https://asc.fasb.org//1943274/2147482810/280-10-50-30Reference 30: http://www.xbrl.org/2003/role/disclosureRef -Topic 280 -SubTopic 10 -Name Accounting Standards Codification -Section 50 -Paragraph 32 -Subparagraph (f) -Publisher FASB -URI https://asc.fasb.org//1943274/2147482810/280-10-50-32Reference 31: http://www.xbrl.org/2003/role/disclosureRef -Topic 260 -SubTopic 10 -Name Accounting Standards Codification -Section 45 -Paragraph 60B -Subparagraph (a) -Publisher FASB -URI https://asc.fasb.org//1943274/2147482689/260-10-45-60BReference 32: http://www.xbrl.org/2003/role/exampleRef -Topic 280 -SubTopic 10 -Name Accounting Standards Codification -Section 50 -Paragraph 31 -Publisher FASB -URI https://asc.fasb.org//1943274/2147482810/280-10-50-31Reference 33: http://www.xbrl.org/2003/role/disclosureRef -Topic 280 -SubTopic 10 -Name Accounting Standards Codification -Section 50 -Paragraph 32 -Subparagraph (c) -Publisher FASB -URI https://asc.fasb.org//1943274/2147482810/280-10-50-32Reference 34: http://www.xbrl.org/2003/role/disclosureRef -Topic 205 -SubTopic 20 -Name Accounting Standards Codification -Section 50 -Paragraph 7 -Publisher FASB -URI https://asc.fasb.org//1943274/2147483499/205-20-50-7Reference 35: http://fasb.org/us-gaap/role/ref/legacyRef -Topic 230 -SubTopic 10 -Name Accounting Standards Codification -Section 45 -Paragraph 28 -Publisher FASB -URI https://asc.fasb.org//1943274/2147482740/230-10-45-28Reference 36: http://www.xbrl.org/2003/role/disclosureRef -Topic 220 -SubTopic 10 -Name Accounting Standards Codification -Section 45 -Paragraph 1A -Subparagraph (a) -Publisher FASB -URI https://asc.fasb.org//1943274/2147482790/220-10-45-1AReference 37: http://www.xbrl.org/2003/role/disclosureRef -Topic 220 -SubTopic 10 -Name Accounting Standards Codification -Section 45 -Paragraph 1B -Subparagraph (a) -Publisher FASB -URI https://asc.fasb.org//1943274/2147482790/220-10-45-1BReference 38: http://fasb.org/us-gaap/role/ref/legacyRef -Topic 220 -SubTopic 10 -Name Accounting Standards Codification -Section S99 -Paragraph 2 -Subparagraph (SX 210.5-03(20)) -Publisher FASB -URI https://asc.fasb.org//1943274/2147483621/220-10-S99-2Reference 39: http://fasb.org/us-gaap/role/ref/legacyRef -Topic 942 -SubTopic 220 -Name Accounting Standards Codification -Section S99 -Paragraph 1 -Subparagraph (SX 210.9-04(22)) -Publisher FASB -URI https://asc.fasb.org//1943274/2147483589/942-220-S99-1\\n+ Details\\n\\n Name:\\nus-gaap_NetIncomeLoss\\n\\n\\n Namespace Prefix:\\nus-gaap_\\n\\n\\n Data Type:\\nxbrli:monetaryItemType\\n\\n\\n Balance Type:\\ncredit\\n\\n\\n Period Type:\\nduration\\n\\n\\n\\n\\n\\nX\\n\\n- DefinitionThe net result for the period of deducting operating expenses from operating revenues.\\n+ ReferencesReference 1: http://www.xbrl.org/2003/role/disclosureRef -Topic 280 -SubTopic 10 -Name Accounting Standards Codification -Section 50 -Paragraph 22 -Publisher FASB -URI https://asc.fasb.org//1943274/2147482810/280-10-50-22Reference 2: http://www.xbrl.org/2003/role/disclosureRef -Topic 280 -SubTopic 10 -Name Accounting Standards Codification -Section 50 -Paragraph 30 -Subparagraph (b) -Publisher FASB -URI https://asc.fasb.org//1943274/2147482810/280-10-50-30Reference 3: http://www.xbrl.org/2003/role/disclosureRef -Topic 280 -SubTopic 10 -Name Accounting Standards Codification -Section 50 -Paragraph 32 -Subparagraph (f) -Publisher FASB -URI https://asc.fasb.org//1943274/2147482810/280-10-50-32Reference 4: http://www.xbrl.org/2003/role/exampleRef -Topic 280 -SubTopic 10 -Name Accounting Standards Codification -Section 50 -Paragraph 31 -Publisher FASB -URI https://asc.fasb.org//1943274/2147482810/280-10-50-31Reference 5: http://www.xbrl.org/2003/role/disclosureRef -Topic 280 -SubTopic 10 -Name Accounting Standards Codification -Section 50 -Paragraph 32 -Subparagraph (c) -Publisher FASB -URI https://asc.fasb.org//1943274/2147482810/280-10-50-32\\n+ Details\\n\\n Name:\\nus-gaap_OperatingIncomeLoss\\n\\n\\n Namespace Prefix:\\nus-gaap_\\n\\n\\n Data Type:\\nxbrli:monetaryItemType\\n\\n\\n Balance Type:\\ncredit\\n\\n\\n Period Type:\\nduration\\n\\n\\n\\n\\n\\nX\\n\\n- ReferencesNo definition available.\\n+ Details\\n\\n Name:\\nus-gaap_OtherNoncashIncomeExpenseAbstract\\n\\n\\n Namespace Prefix:\\nus-gaap_\\n\\n\\n Data Type:\\nxbrli:stringItemType\\n\\n\\n Balance Type:\\nna\\n\\n\\n Period Type:\\nduration\\n\\n\\n\\n\\n\\nX\\n\\n- DefinitionAmount of income (expense) related to nonoperating activities, classified as other.\\n+ ReferencesReference 1: http://fasb.org/us-gaap/role/ref/legacyRef -Topic 220 -SubTopic 10 -Name Accounting Standards Codification -Section S99 -Paragraph 2 -Subparagraph (SX 210.5-03.9) -Publisher FASB -URI https://asc.fasb.org//1943274/2147483621/220-10-S99-2\\n+ Details\\n\\n Name:\\nus-gaap_OtherNonoperatingIncomeExpense\\n\\n\\n Namespace Prefix:\\nus-gaap_\\n\\n\\n Data Type:\\nxbrli:monetaryItemType\\n\\n\\n Balance Type:\\ncredit\\n\\n\\n Period Type:\\nduration\\n\\n\\n\\n\\n\\nX\\n\\n- DefinitionThe aggregate costs incurred (1) in a planned search or critical investigation aimed at discovery of new knowledge with the hope that such knowledge will be useful in developing a new product or service, a new process or technique, or in bringing about a significant improvement to an existing product or process; or (2) to translate research findings or other knowledge into a plan or design for a new product or process or for a significant improvement to an existing product or process whether intended for sale or the entity's use, during the reporting period charged to research and development projects, including the costs of developing computer software up to the point in time of achieving technological feasibility, and costs allocated in accounting for a business combination to in-process projects deemed to have no alternative future use.\\n+ ReferencesReference 1: http://www.xbrl.org/2003/role/disclosureRef -Topic 730 -SubTopic 10 -Name Accounting Standards Codification -Section 50 -Paragraph 1 -Publisher FASB -URI https://asc.fasb.org//1943274/2147482916/730-10-50-1Reference 2: http://www.xbrl.org/2009/role/commonPracticeRef -Topic 912 -SubTopic 730 -Name Accounting Standards Codification -Section 25 -Paragraph 1 -Publisher FASB -URI https://asc.fasb.org//1943274/2147482517/912-730-25-1Reference 3: http://fasb.org/us-gaap/role/ref/legacyRef -Name Accounting Standards Codification -Topic 985 -SubTopic 20 -Section 50 -Paragraph 1 -Publisher FASB -URI https://asc.fasb.org//1943274/2147481283/985-20-50-1\\n+ Details\\n\\n Name:\\nus-gaap_ResearchAndDevelopmentExpense\\n\\n\\n Namespace Prefix:\\nus-gaap_\\n\\n\\n Data Type:\\nxbrli:monetaryItemType\\n\\n\\n Balance Type:\\ndebit\\n\\n\\n Period Type:\\nduration\\n\\n\\n\\n\\n\\nX\\n\\n- DefinitionAmount, excluding tax collected from customer, of revenue from satisfaction of performance obligation by transferring promised good or service to customer. Tax collected from customer is tax assessed by governmental authority that is both imposed on and concurrent with specific revenue-producing transaction, including, but not limited to, sales, use, value added and excise.\\n+ ReferencesReference 1: http://www.xbrl.org/2003/role/disclosureRef -Topic 924 -SubTopic 10 -Name Accounting Standards Codification -Section S99 -Paragraph 1 -Subparagraph (SAB Topic 11.L) -Publisher FASB -URI https://asc.fasb.org//1943274/2147479941/924-10-S99-1Reference 2: http://www.xbrl.org/2003/role/disclosureRef -Topic 606 -SubTopic 10 -Name Accounting Standards Codification -Section 50 -Paragraph 5 -Publisher FASB -URI https://asc.fasb.org//1943274/2147479806/606-10-50-5Reference 3: http://www.xbrl.org/2003/role/disclosureRef -Topic 280 -SubTopic 10 -Name Accounting Standards Codification -Section 50 -Paragraph 30 -Subparagraph (a) -Publisher FASB -URI https://asc.fasb.org//1943274/2147482810/280-10-50-30Reference 4: http://www.xbrl.org/2003/role/disclosureRef -Topic 280 -SubTopic 10 -Name Accounting Standards Codification -Section 50 -Paragraph 42 -Publisher FASB -URI https://asc.fasb.org//1943274/2147482810/280-10-50-42Reference 5: http://www.xbrl.org/2003/role/disclosureRef -Topic 280 -SubTopic 10 -Name Accounting Standards Codification -Section 50 -Paragraph 22 -Subparagraph (b) -Publisher FASB -URI https://asc.fasb.org//1943274/2147482810/280-10-50-22Reference 6: http://www.xbrl.org/2003/role/disclosureRef -Topic 280 -SubTopic 10 -Name Accounting Standards Codification -Section 50 -Paragraph 32 -Subparagraph (b) -Publisher FASB -URI https://asc.fasb.org//1943274/2147482810/280-10-50-32Reference 7: http://www.xbrl.org/2003/role/disclosureRef -Topic 280 -SubTopic 10 -Name Accounting Standards Codification -Section 50 -Paragraph 40 -Publisher FASB -URI https://asc.fasb.org//1943274/2147482810/280-10-50-40Reference 8: http://www.xbrl.org/2003/role/disclosureRef -Topic 280 -SubTopic 10 -Name Accounting Standards Codification -Section 50 -Paragraph 22 -Subparagraph (a) -Publisher FASB -URI https://asc.fasb.org//1943274/2147482810/280-10-50-22Reference 9: http://www.xbrl.org/2003/role/disclosureRef -Topic 280 -SubTopic 10 -Name Accounting Standards Codification -Section 50 -Paragraph 32 -Subparagraph (a) -Publisher FASB -URI https://asc.fasb.org//1943274/2147482810/280-10-50-32Reference 10: http://www.xbrl.org/2003/role/disclosureRef -Topic 280 -SubTopic 10 -Name Accounting Standards Codification -Section 50 -Paragraph 41 -Subparagraph (a) -Publisher FASB -URI https://asc.fasb.org//1943274/2147482810/280-10-50-41Reference 11: http://www.xbrl.org/2003/role/disclosureRef -Topic 606 -SubTopic 10 -Name Accounting Standards Codification -Section 50 -Paragraph 4 -Subparagraph (a) -Publisher FASB -URI https://asc.fasb.org//1943274/2147479806/606-10-50-4\\n+ Details\\n\\n Name:\\nus-gaap_RevenueFromContractWithCustomerExcludingAssessedTax\\n\\n\\n Namespace Prefix:\\nus-gaap_\\n\\n\\n Data Type:\\nxbrli:monetaryItemType\\n\\n\\n Balance Type:\\ncredit\\n\\n\\n Period Type:\\nduration\\n\\n\\n\\n\\n\\nX\\n\\n- DefinitionThe aggregate total costs related to selling a firm's product and services, as well as all other general and administrative expenses. Direct selling expenses (for example, credit, warranty, and advertising) are expenses that can be directly linked to the sale of specific products. Indirect selling expenses are expenses that cannot be directly linked to the sale of specific products, for example telephone expenses, Internet, and postal charges. General and administrative expenses include salaries of non-sales personnel, rent, utilities, communication, etc.\\n+ ReferencesReference 1: http://fasb.org/us-gaap/role/ref/legacyRef -Topic 220 -SubTopic 10 -Name Accounting Standards Codification -Section S99 -Paragraph 2 -Subparagraph (SX 210.5-03.4) -Publisher FASB -URI https://asc.fasb.org//1943274/2147483621/220-10-S99-2\\n+ Details\\n\\n Name:\\nus-gaap_SellingGeneralAndAdministrativeExpense\\n\\n\\n Namespace Prefix:\\nus-gaap_\\n\\n\\n Data Type:\\nxbrli:monetaryItemType\\n\\n\\n Balance Type:\\ndebit\\n\\n\\n Period Type:\\nduration\\n\\n\\n\\n\\n\\nX\\n\\n- DefinitionThe average number of shares or units issued and outstanding that are used in calculating diluted EPS or earnings per unit (EPU), determined based on the timing of issuance of shares or units in the period.\\n+ ReferencesReference 1: http://www.xbrl.org/2003/role/disclosureRef -Topic 260 -SubTopic 10 -Name Accounting Standards Codification -Section 50 -Paragraph 1 -Subparagraph (a) -Publisher FASB -URI https://asc.fasb.org//1943274/2147482662/260-10-50-1Reference 2: http://www.xbrl.org/2003/role/disclosureRef -Topic 260 -SubTopic 10 -Name Accounting Standards Codification -Section 45 -Paragraph 16 -Publisher FASB -URI https://asc.fasb.org//1943274/2147482689/260-10-45-16\\n+ Details\\n\\n Name:\\nus-gaap_WeightedAverageNumberOfDilutedSharesOutstanding\\n\\n\\n Namespace Prefix:\\nus-gaap_\\n\\n\\n Data Type:\\nxbrli:sharesItemType\\n\\n\\n Balance Type:\\nna\\n\\n\\n Period Type:\\nduration\\n\\n\\n\\n\\n\\nX\\n\\n- DefinitionNumber of [basic] shares or units, after adjustment for contingently issuable shares or units and other shares or units not deemed outstanding, determined by relating the portion of time within a reporting period that common shares or units have been outstanding to the total time in that period.\\n+ ReferencesReference 1: http://www.xbrl.org/2003/role/disclosureRef -Topic 260 -SubTopic 10 -Name Accounting Standards Codification -Section 50 -Paragraph 1 -Subparagraph (a) -Publisher FASB -URI https://asc.fasb.org//1943274/2147482662/260-10-50-1Reference 2: http://www.xbrl.org/2003/role/disclosureRef -Topic 260 -SubTopic 10 -Name Accounting Standards Codification -Section 45 -Paragraph 10 -Publisher FASB -URI https://asc.fasb.org//1943274/2147482689/260-10-45-10\\n+ Details\\n\\n Name:\\nus-gaap_WeightedAverageNumberOfSharesOutstandingBasic\\n\\n\\n Namespace Prefix:\\nus-gaap_\\n\\n\\n Data Type:\\nxbrli:sharesItemType\\n\\n\\n Balance Type:\\nna\\n\\n\\n Period Type:\\nduration\\n\\n\\n\\n\\n\\n\\n\\nSource\\n\\n\\n\\n\\n\\n PDF\\n HTML\\n\\n10-Q Filing\\n\\n\\n\\n\\n ZIP\\n XLS\\n HTML\\n\\nXBRL\\n\\nPublished: November 14, 2023\\n\\n \\n\\n \\n\\n\\n\\n\\n\\nEmail Alerts\\nTear Sheet\\nContacts\\nRSS News Feed\\n\\n\\n\\nAbout\\nCareers\\nPress\\nInvestors\\nPrivacy & Legal\\nFAQ\\n\\n\\n\\n\\n\\n\\n\\n\\n\\n\\n\\n\\n\\n\\n\\n\\n\\n\\n\\n\\n\\n\\n\\n\\n\\n\"},\n",
       " {'Title': <title data-rh=\"true\">Canoo (NasdaqCM:GOEV) - Earnings &amp; Revenue Performance  - Simply Wall St</title>,\n",
       "  'Text': \"\\n\\n\\n\\n\\n\\n\\n\\n\\n\\n\\n\\n\\n\\n\\n\\n\\n\\n\\n\\n\\n\\n\\n\\n\\n\\n\\n\\n\\n\\n\\n\\n\\n\\n\\n\\n\\n\\n\\n\\n\\n\\n\\n\\n\\n\\n\\n\\n\\n\\n\\n\\n\\n\\n\\n\\n\\n\\n\\n\\n\\n\\n\\n\\n\\n\\n\\n\\n\\n\\n\\n\\n\\n\\n\\n\\n\\n\\n\\n\\n\\n\\n\\n\\n\\n\\n\\n\\n\\n\\n\\n\\n\\n\\n\\n\\n\\n\\n\\n\\n\\n\\n\\n\\n\\n\\n\\n\\n\\n\\n\\n\\n\\n\\n\\n\\n\\n\\n\\n\\n\\n\\nCanoo (NasdaqCM:GOEV) - Earnings & Revenue Performance  - Simply Wall St\\n\\n\\n\\n\\nDashboardMarketsDiscoverWatchlistPortfoliosScreenerCanoo Inc.NasdaqCM:GOEV Stock ReportMarket Cap: US$156.9mAdd to watchlistCompany Overview1Valuation2Future Growth3Past Performance4Financial Health5Dividend6Management7OwnershipOther InformationView Future GrowthCanoo Past Earnings PerformancePast criteria checks 0/6Canoo's earnings have been declining at an average annual rate of -35.3%, while the Auto industry saw earnings growing at 25.9% annually. Revenues have been declining at an average rate of 26.6% per year.Key information-35.3%Earnings growth rate8.6%EPS growth rateAuto Industry Growth23.9%Revenue growth rate-26.6%Return on equity-213.6%Net Margin-68,170.7%Last Earnings Update30 Sep 2023Recent past performance updatesCanoo Inc. to Report Q3, 2023 Results on Nov 14, 2023Nov 03Canoo Inc. to Report Q2, 2023 Results on Aug 14, 2023Aug 01Canoo Inc. to Report Q1, 2023 Results on May 15, 2023May 05Canoo Inc. to Report Q3, 2022 Results on Nov 09, 2022Oct 20Canoo Inc. to Report Q2, 2022 Results on Aug 08, 2022Jul 26Canoo Inc. to Report Q4, 2021 Results on Feb 28, 2022Feb 15Show all updatesRecent updatesCanoo Inc. has filed a Follow-on Equity Offering in the amount of $15.957447 million.Jan 20+ 1 more updateCanoo Inc. Announces Resignation of Greg Ethridge as Member of the Board of DirectorsJan 06Canoo Inc. Names Michael Carter as Chief People OfficerDec 11Canoo Inc. Unveils the American BulldogNov 12Canoo Inc. to Report Q3, 2023 Results on Nov 14, 2023Nov 03Canoo Inc., Annual General Meeting, Dec 19, 2023Oct 28Canoo Inc. announced that it has received $40.7 million in funding from Yorkville Advisors Global LPSep 27Canoo Provides Update on Listing Transfer from Nasdaq Global Select Market to Nasdaq Capital MarketSep 17Canoo Provides Update on Listing Transfer from Nasdaq Global Select Market to Nasdaq Capital MarketSep 16Price target decreased by 12% to US$3.11 Aug 24Consensus revenue estimates decrease by 29%, EPS upgraded Aug 21New minor risk - Financial position Aug 17Canoo Inc. to Report Q2, 2023 Results on Aug 14, 2023Aug 01New major risk - Share price stability Jul 26Consensus revenue estimates decrease by 19%, EPS upgraded Jun 28Canoo Inc. to Report Q1, 2023 Results on May 15, 2023May 05Price target decreased by 20% to US$6.50 Apr 04Canoo Inc. Announces Chief Financial Officer ChangesJan 27President & Director recently sold US$53k worth of stock Nov 18High number of new and inexperienced directors Nov 16Canoo Inc. to Report Q3, 2022 Results on Nov 09, 2022Oct 20Canoo stock surges on order for 9,300 EVs Oct 17Canoo: Saved From The Brink By Walmart Oct 07Canoo: Buy This Cheap EV Stock For The Long Term Sep 07Canoo: Yet Another SPAC Birthed EV Debacle Aug 21President & Director recently sold US$422k worth of stock Aug 20Price target decreased to US$9.50 Aug 09EV stock Canoo tumbles after second quarter's results Aug 09Canoo Inc. to Report Q2, 2022 Results on Aug 08, 2022Jul 26Insider recently sold US$7.4m worth of stock Jul 21Canoo discloses ~$7.37M share sale by DD Global Jul 21Consensus forecasts updated Jul 14Canoo stock jumps after the U.S. Army selects it's multi-purpose platform for analysis and demonstration Jul 14Canoo Inc.(NasdaqGS:GOEV) dropped from Russell 2500 Value IndexJun 26Canoo Is Fighting For Its Life Jun 19Canoo Inc., Annual General Meeting, Jul 12, 2022Jun 02Price target increased to US$16.67 May 14High number of new and inexperienced directors Apr 27Consensus forecasts updated Apr 08Price target increased to US$16.67 Apr 06Canoo: A Sinking EV Maker, Investors Should Don Lifejackets Mar 22Canoo's High Cash Burn May Lead To Further Dilution Mar 11Lead Independent Director recently bought US$260k worth of stock Mar 10Canoo Inc. to Report Q4, 2021 Results on Feb 28, 2022Feb 15Canoo Vs. Workhorse: Which Automobile Stock Is The Better Buy? Jan 31Canoo Inc. announced that it expects to receive $8.4 million in funding from VDL Groep B.V.Dec 17Canoo Inc. Increases Production Guidance for Us Facilities for the Year 2022 and Year 2023Dec 16Canoo: A High-Potential Electric Vehicle Stock Dec 03AFV Partners completed the acquisition of 14.78% stake in Canoo Inc. (NasdaqGS:GOEV) from DD Global Holdings Limited for approximately $230 million.Nov 24Canoo Holds Value Following EV Pullbacks And Has Upcoming Catalysts For Next Year Oct 11Canoo: Heavily Shorted, But For Good Reason Jul 23Canoo Debuts Air Purifying Climate Control with UV TechnologyJun 16Scott+Scott Attorneys At Law LLP Alerts Investors to Securities Class Actions Against Canoo, Inc. and June 1 DeadlineMay 25Consensus forecasts updated May 24Zhang Investor Law Alerts Investors of Deadline in Securities Class Action Lawsuit Against Canoo IncMay 21Canoo Prices for Lifestyle VehicleMay 18Robbins Geller Rudman & Dowd LLP Announces Notice of Lead Plaintiff Deadline for Shareholders in the Canoo Inc. Class Action LawsuitApr 08+ 1 more updateLaw Offices of Howard G. Smith Files Securities Class Action on Behalf of Canoo Inc. InvestorsApr 06CFO, In Charge of Finance and Principal Financial & Accounting Officer has left the company Apr 06Canoo Inc. to Report Q4, 2020 Results on Mar 29, 2021Mar 17Canoo Inc. Announces Board AppointmentsMar 16Canoo Inc Debuts Fully-Electric Pickup TruckMar 12Canoo Names Kamal Hamid as Vice President of Investor RelationsJan 21Canoo Inc. Announces Its Board of DirectorsJan 14Canoo bid up on electric vehicle partnership upside Jan 11Canoo stock continues its bouncy ride since going public Jan 05Canoo Holdings Ltd. completed the acquisition of Hennessy Capital Acquisition Corp. IV (NasdaqCM:HCAC) in a reverse merger transaction.Dec 23Revenue & Expenses BreakdownBetaHow Canoo makes and spends money. Based on latest reported\\n              earnings, on an LTM basis.Earnings and Revenue HistoryNasdaqCM:GOEV Revenue, expenses and earnings (USD Millions)DateRevenueEarningsG+A ExpensesR&D Expenses30 Sep 231-35412215230 Jun 230-36014618731 Mar 230-45317026431 Dec 220-48819629930 Sep 220-54621034330 Jun 220-50920534731 Mar 220-45719528931 Dec 210-34719524630 Sep 210-21818024830 Jun 213-16014420631 Mar 213-7110316331 Dec 203-875214330 Sep 203-110238130 Jun 200-1512311031 Mar 200-1702812631 Dec 190-18232137Quality Earnings: GOEV is currently unprofitable.Growing Profit Margin: GOEV is currently unprofitable.Free Cash Flow vs Earnings AnalysisPast Earnings Growth AnalysisEarnings Trend: GOEV is unprofitable, and losses have increased over the past 5 years at a rate of 35.3% per year.Accelerating Growth: Unable to compare GOEV's earnings growth over the past year to its 5-year average as it is currently unprofitableEarnings vs Industry: GOEV is unprofitable, making it difficult to compare its past year earnings growth to the Auto industry (3.9%).Return on EquityHigh ROE: GOEV has a negative Return on Equity (-213.58%), as it is currently unprofitable.Return on AssetsReturn on Capital EmployedDiscover strong past performing companiesPrice7D1YMkt CapP/EGrowthPrice7D1YMkt CapP/EGrowthPrice7D1YMkt CapP/EGrowthPrice7D1YMkt CapP/EGrowthStrong past performing companies in the Automobiles industry.View Financial HealthSimply Wall St™Simply Wall Street Pty LtdLevel 7, 320 Pitt Street, SydneyPopular MarketsUSAUUKINCAZAAbout UsCareersPlansLoginHelp CenterLatest CoveragePodcastsAffiliate ProgramBusiness & EnterpriseFinancial Services GuideTerms and ConditionsPrivacy PolicyLogos provided by ClearbitSimply Wall Street Pty Ltd (ACN 600 056 611), is a Corporate Authorised Representative (Authorised Representative Number: 467183) of Sanlam Private Wealth Pty Ltd (AFSL No. 337927). Any advice contained in this website is general advice only and has been prepared without considering your objectives, financial situation or needs. You should not rely on any advice and/or information contained in this website and before making any investment decision we recommend that you consider whether it is appropriate for your situation and seek appropriate financial, taxation and legal advice. Please read our Financial Services Guide before deciding whether to obtain financial services from us.\\n\\n\\n\\n\\n\\n\\n\\n\\n\\n\\n\\n\\n\\n\\n\\n\\n\\n\\n\\n\\n\\n\\n\\n\\n\\n\\n\\n\\n\\n\\n\\n\\n\\n\\n\\n\\n\\n\\n\\n\\n\\n\\n\\n\\n\\n\\n\\n\\n\\n\\n\\n\\n\\n\\n\\n\\n\\n\\n\\n\\n\\n\\n\\n\\n\\n\\n\\n\\n\\n\\n\\n\\n\\n\\n\"},\n",
       " {'Title': <title>Error Page</title>,\n",
       "  'Text': 'Error PageSecurity Violation (503)\\n\\nwww.tipranks.com\\xa0|\\xa0Access denied (403)\\nCurrent session has been terminated.\\nFor further information, do not hesitate to contact us.\\nRef: 117.194.225.11\\xa01708441269\\n\\n\\n'},\n",
       " {'Title': <title>Page Not Found</title>,\n",
       "  'Text': \"\\n\\n\\n\\n\\n\\n\\n\\n\\n\\n\\n\\n\\n\\n\\n\\n\\n\\n\\n\\n\\n\\n\\n\\n\\n\\n\\n\\n\\n\\n\\n\\n\\n\\n\\n\\n\\n\\n\\n\\n\\n\\n\\n\\nPage Not Found\\n\\n\\n\\n\\n\\n\\n\\n\\n\\n\\n\\n\\n\\n\\n\\n\\n\\n\\n\\n\\n\\n\\n\\n\\n\\n\\n\\n\\n\\n\\n\\n\\n\\n\\n\\n\\n\\n\\n\\n\\nSkip to Main ContentSkip to Search\\n\\n\\nThe Wall Street JournalEnglish EditionEnglish中文 (Chinese)日本語 (Japanese)Print EditionVideoAudioLatest HeadlinesMore Other Products from WSJBuy Side from WSJWSJ ShopWSJ WineLatestWorldTopicsAfricaAmericasAsiaChinaEuropeMiddle EastIndiaOceaniaRussiaU.K.MoreScienceArchaeologyBiologyEnvironmentPhysicsSpace & AstronomyWorld VideoObituariesBusinessTopicsAirlinesAutosC-SuiteDealsEarningsEnergy & OilEntrepreneurshipTelecomRetailHospitalityLogisticsMediaC-SuiteCFO JournalCIO JournalCMO TodayLogistics ReportRisk & ComplianceWSJ ProfessionalWSJ Pro BankruptcyWSJ Pro Central BankingWSJ Pro CybersecurityWSJ Pro Private EquityWSJ Pro Sustainable BusinessWSJ Pro Venture CapitalMoreHeard on the StreetJournal ReportsBusiness VideoBusiness PodcastU.S.TopicsClimate & EnvironmentEducationLawCollege Rankings 2024MoreU.S. VideoWhat's News PodcastPoliticsTopicsElectionsNational SecurityPolicyMorePolitics VideoEconomyTopicsCentral BankingConsumersHousingJobsTradeGlobalWSJ ProfessionalWSJ Pro BankruptcyWSJ Pro Central BankingWSJ Pro Private EquityWSJ Pro Venture CapitalMoreCapital AccountEconomic Forecasting SurveyEconomy VideoTechTopicsAIBiotechCybersecurityPersonal TechnologyMoreKeywords by Christopher MimsPersonal Tech by Joanna SternFamily & Tech by Julie JargonPersonal Tech by Nicole NguyenCIO JournalThe Future of EverythingTech VideoTech PodcastFinanceTopicsBankingCommodities & FuturesCurrenciesInvestingRegulationStocksMoreHeard on the StreetCapital Account by Greg IpThe Intelligent Investor by Jason ZweigTax Report by Laura SaundersStreetwise by James MackintoshCFO JournalMarkets VideoYour Money Briefing PodcastMarket DataMarket Data HomeCompaniesU.S. StocksCommoditiesBonds & RatesCurrencies Market DataMutual Funds & ETFsOpinionColumnistsGerard BakerSadanand DhumeAllysia FinleyJames FreemanWilliam A. GalstonDaniel HenningerHolman W. JenkinsAndy KesslerWilliam McGurnWalter Russell MeadPeggy NoonanMary Anastasia O'GradyJason RileyJoseph SternbergKimberley A. StrasselMoreEditorialsCommentaryFuture ViewHouses of WorshipCross CountryLetters to the EditorThe Weekend InterviewPotomac Watch PodcastForeign Edition PodcastFree Expression PodcastOpinion VideoNotable & QuotableArts & CultureTopicsBooksFilmFine ArtFood & CookingHistoryMusicTelevisionTheaterReviewsArchitecture ReviewArt ReviewsFilm ReviewsTelevision ReviewsTheater ReviewsMasterpiece SeriesMusic ReviewsDance ReviewsOpera ReviewsExhibition ReviewsCultural CommentaryMoreWSJ PuzzlesWhat To WatchArts CalendarLifestyleTopicsCareersCarsFitnessRelationshipsTravelWorkplaceMoreOn Wine by Lettie TeagueWork & Life by Rachel FeintzeigCarry On by Dawn GilbertsonOn The Clock by Callum BorchersElizabeth BernsteinTurning Points by Clare AnsberryWSJ PuzzlesRecipesReal EstateTopicsCommercial Real EstateLuxury HomesPersonal FinanceTopicsRetirementSavingsCreditTaxesMortgagesMoreThe Intelligent Investor by Jason ZweigTax Report by Laura SaundersStreetwise by James MackintoshHealthTopicsHealthcarePharmaWellnessMoreYour Health by Sumathi ReddyStyleTopicsBeautyDesignFashionMoreOff Brand by Rory SatranOn Trend by Jacob GallagherMy Monday MorningSportsTopicsBaseballBasketballFootballGolfHockeyOlympicsSoccerTennisMoreJason GayLatestWorldTopicsAfricaAmericasAsiaChinaEuropeMiddle EastIndiaOceaniaRussiaU.K.MoreScienceArchaeologyBiologyEnvironmentPhysicsSpace & AstronomyWorld VideoObituariesBusinessTopicsAirlinesAutosC-SuiteDealsEarningsEnergy & OilEntrepreneurshipTelecomRetailHospitalityLogisticsMediaC-SuiteCFO JournalCIO JournalCMO TodayLogistics ReportRisk & ComplianceWSJ ProfessionalWSJ Pro BankruptcyWSJ Pro Central BankingWSJ Pro CybersecurityWSJ Pro Private EquityWSJ Pro Sustainable BusinessWSJ Pro Venture CapitalMoreHeard on the StreetJournal ReportsBusiness VideoBusiness PodcastU.S.TopicsClimate & EnvironmentEducationLawCollege Rankings 2024MoreU.S. VideoWhat's News PodcastPoliticsTopicsElectionsNational SecurityPolicyMorePolitics VideoEconomyTopicsCentral BankingConsumersHousingJobsTradeGlobalWSJ ProfessionalWSJ Pro BankruptcyWSJ Pro Central BankingWSJ Pro Private EquityWSJ Pro Venture CapitalMoreCapital AccountEconomic Forecasting SurveyEconomy VideoTechTopicsAIBiotechCybersecurityPersonal TechnologyMoreKeywords by Christopher MimsPersonal Tech by Joanna SternFamily & Tech by Julie JargonPersonal Tech by Nicole NguyenCIO JournalThe Future of EverythingTech VideoTech PodcastFinanceTopicsBankingCommodities & FuturesCurrenciesInvestingRegulationStocksMoreHeard on the StreetCapital Account by Greg IpThe Intelligent Investor by Jason ZweigTax Report by Laura SaundersStreetwise by James MackintoshCFO JournalMarkets VideoYour Money Briefing PodcastMarket DataMarket Data HomeCompaniesU.S. StocksCommoditiesBonds & RatesCurrencies Market DataMutual Funds & ETFsOpinionColumnistsGerard BakerSadanand DhumeAllysia FinleyJames FreemanWilliam A. GalstonDaniel HenningerHolman W. JenkinsAndy KesslerWilliam McGurnWalter Russell MeadPeggy NoonanMary Anastasia O'GradyJason RileyJoseph SternbergKimberley A. StrasselMoreEditorialsCommentaryFuture ViewHouses of WorshipCross CountryLetters to the EditorThe Weekend InterviewPotomac Watch PodcastForeign Edition PodcastFree Expression PodcastOpinion VideoNotable & QuotableArts & CultureTopicsBooksFilmFine ArtFood & CookingHistoryMusicTelevisionTheaterReviewsArchitecture ReviewArt ReviewsFilm ReviewsTelevision ReviewsTheater ReviewsMasterpiece SeriesMusic ReviewsDance ReviewsOpera ReviewsExhibition ReviewsCultural CommentaryMoreWSJ PuzzlesWhat To WatchArts CalendarLifestyleTopicsCareersCarsFitnessRelationshipsTravelWorkplaceMoreOn Wine by Lettie TeagueWork & Life by Rachel FeintzeigCarry On by Dawn GilbertsonOn The Clock by Callum BorchersElizabeth BernsteinTurning Points by Clare AnsberryWSJ PuzzlesRecipesReal EstateTopicsCommercial Real EstateLuxury HomesPersonal FinanceTopicsRetirementSavingsCreditTaxesMortgagesMoreThe Intelligent Investor by Jason ZweigTax Report by Laura SaundersStreetwise by James MackintoshHealthTopicsHealthcarePharmaWellnessMoreYour Health by Sumathi ReddyStyleTopicsBeautyDesignFashionMoreOff Brand by Rory SatranOn Trend by Jacob GallagherMy Monday MorningSportsTopicsBaseballBasketballFootballGolfHockeyOlympicsSoccerTennisMoreJason GaySearch 404Page Not FoundWe can’t find the page you're looking for. If you typed the URL into your browser, check that you entered it correctly. If you reached this page via our site or search, please let us know by emailing support@wsj.comPopular Articles TravelThe Best and Worst Airlines of 2023◆ WSJ News ExclusiveU.S. Secretly Alerted Iran Ahead of Islamic State Terrorist Attack HomesTheir Home Has Water Views and a Sandy Beach—And It’s Nowhere Near the OceanPopular VideosVideo CenterLatest PodcastsPodcast CenterMinute BriefingU.S. Economy Grew 3.1% Last YearThe Wall Street Journal Google Your News UpdateWhy New EV Drivers May Look Beyond Tesla The Wall Street Journal Google Your News UpdateCan Elon Musk Recharge Tesla?The Wall Street JournalEnglish EditionEnglish中文 (Chinese)日本語 (Japanese)Back to Top « WSJ MembershipBuy Side ExclusivesSubscription OptionsWhy Subscribe?Corporate SubscriptionsWSJ Higher Education ProgramWSJ High School ProgramPublic Library ProgramWSJ LiveCommercial PartnershipsCustomer ServiceCustomer CenterContact UsCancel My SubscriptionTools & FeaturesNewsletters & AlertsGuidesTopicsMy NewsRSS FeedsVideo CenterWatchlistPodcastsVisual StoriesAdsAdvertiseCommercial Real Estate AdsPlace a Classified AdSell Your BusinessSell Your HomeRecruitment & Career AdsCouponsDigital Self ServiceMoreAbout UsContent PartnershipsCorrectionsJobs at WSJNews ArchiveRegister for FreeReprints & LicensingBuy IssuesWSJ ShopFacebookTwitterInstagramYouTubePodcastsSnapchatGoogle PlayApp StoreDow Jones ProductsBarron'sBigChartsDow Jones NewswiresFactivaFinancial NewsMansion GlobalMarketWatchRisk & ComplianceBuy Side from WSJWSJ ProWSJ VideoWSJ WinePrivacy NoticeCookie NoticeCopyright PolicyData PolicySubscriber Agreement & Terms of UseYour Ad ChoicesAccessibilityCopyright ©2024 Dow Jones & Company, Inc. All Rights Reserved.\\n\\n\\n\\n\\n\\n\\n\\n\\n\\n\"},\n",
       " {'Title': <title>ERROR: The request could not be satisfied</title>,\n",
       "  'Text': \"\\n\\nERROR: The request could not be satisfied\\n\\n403 ERROR\\nThe request could not be satisfied.\\n\\nRequest blocked.\\nWe can't connect to the server for this app or website at this time. There might be too much traffic or a configuration error. Try again later, or contact the app or website owner.\\n\\nIf you provide content to customers through CloudFront, you can find steps to troubleshoot and help prevent this error by reviewing the CloudFront documentation.\\n\\n\\n\\nGenerated by cloudfront (CloudFront)\\nRequest ID: DJb0Lp7NqeaIG4dfX3HdF8Bct0d1_uvzrKUrz5UuZsYJFRyxnI1ZRw==\\n\\n\\n\\n\"},\n",
       " {'Title': <title>Just a moment...</title>,\n",
       "  'Text': 'Just a moment...Enable JavaScript and cookies to continue\\n'},\n",
       " {'Title': None,\n",
       "  'Text': '\\n\\n\\n\\n\\nWe do not allow automated access to our servers.\\nAutomated access to our data is prohibited by our data provider.\\nIf you are a user attempting to access the site via a browser, please follow this process to regain access:\\n\\nGo to whatismyipaddress and obtain your IPv4 address\\nEmail us your IPv4 address at [email\\xa0protected]\\nWe will add you to our whitelist within 24 hours\\n\\n\\n\\n\\n'}]"
      ]
     },
     "execution_count": 23,
     "metadata": {},
     "output_type": "execute_result"
    }
   ],
   "source": [
    "# we can also use link and scrape the data from links \n",
    "data = []\n",
    "for link in links:\n",
    "    response = requests.get(link)\n",
    "    soup = BeautifulSoup(response.text, 'html.parser')\n",
    "   \n",
    "    title = soup.title         # Extract relevant information from the page\n",
    "    text = soup.get_text()\n",
    "    data.append({\"Title\": title, \"Text\": text})\n",
    "data     "
   ]
  },
  {
   "cell_type": "code",
   "execution_count": 9,
   "id": "4b208610-7e5e-4891-9bee-50c17d14c3c4",
   "metadata": {},
   "outputs": [],
   "source": [
    "#store the scraped data in a CSV file\n",
    "df = pd.DataFrame(data)\n",
    "df.to_csv('canoo_data.csv', index=False)"
   ]
  },
  {
   "cell_type": "code",
   "execution_count": 10,
   "id": "9b6b678e-4bcc-4683-838a-a79fd243e6c8",
   "metadata": {},
   "outputs": [],
   "source": [
    "# importing NLTK library\n",
    "import nltk"
   ]
  },
  {
   "cell_type": "code",
   "execution_count": 11,
   "id": "fcf96691-633f-4f9d-b57e-333917911d5d",
   "metadata": {
    "collapsed": true,
    "jupyter": {
     "outputs_hidden": true
    },
    "tags": []
   },
   "outputs": [
    {
     "name": "stdout",
     "output_type": "stream",
     "text": [
      "['00' '000' '01' '08' '10' '100' '10m' '11' '12' '135' '14b' '15' '150'\n",
      " '156' '16' '17' '170' '178' '18' '19' '2019' '2021' '2021canoo' '2022'\n",
      " '2023' '2023csimarket' '2023goev' '2023why' '2024' '2025' '2025canoo'\n",
      " '2028' '2030' '2030canoo' '22' '24' '24m' '25' '26' '30' '305' '31' '313'\n",
      " '324' '33' '34' '346' '36' '384' '45' '487' '49' '50' '500' '519' '55'\n",
      " '56' '628' '64' '651' '68' '694' '71' '73' '750' '75333' '768' '77' '78'\n",
      " '783' '81' '83' '87' '90' '903' '93' '950i' '967' '99' 'able' 'abstract'\n",
      " 'accessible' 'accounting' 'acquisitions' 'additional' 'address'\n",
      " 'addressable' 'advanced' 'agreed' 'allcanoo' 'allnewsimagesbooks'\n",
      " 'allnewsimagesmaps' 'allnewsimagesvideos' 'allowing' 'allview'\n",
      " 'alternatives' 'american' 'analysis' 'analysiscanoo'\n",
      " 'analysisstockanalysis' 'analyst' 'announced' 'announces' 'annual'\n",
      " 'articles' 'askhow' 'askis' 'askwhat' 'assets' 'automobiles' 'automotive'\n",
      " 'balance' 'base' 'based' 'bengalfrom' 'better' 'big' 'billion' 'books'\n",
      " 'bound' 'breakthrough' 'business' 'buy' 'caas' 'calculated' 'california'\n",
      " 'canoe' 'canoeing' 'canoo' 'canoocanoo' 'canoogoev' 'canoojournalrecord'\n",
      " 'cap' 'capcanoo' 'capsince' 'cash' 'chain' 'charting' 'charts' 'china'\n",
      " 'cites' 'click' 'closing' 'com' 'commercial' 'committed' 'companies'\n",
      " 'company' 'compare' 'compared' 'compete' 'competes' 'competition'\n",
      " 'competitionseg2canoo' 'competitive' 'competitors' 'compound' 'conducts'\n",
      " 'constraints' 'cont' 'control' 'convertible' 'corp' 'corporate' 'cost'\n",
      " 'countries' 'created' 'credit' 'current' 'currently' 'customer'\n",
      " 'customers' 'data' 'datecanoo' 'dec' 'decision' 'decrease' 'decreased'\n",
      " 'definition' 'deliveries' 'delivery' 'depth' 'detailed' 'developing'\n",
      " 'development' 'develops' 'displaying' 'dorman' 'drivers' 'droppingcanoo'\n",
      " 'earnings' 'ebt' 'effectiveness' 'efficiency' 'electric'\n",
      " 'electrification' 'eligible' 'employed' 'ends' 'engaged' 'entered' 'eps'\n",
      " 'equities' 'equity' 'established' 'estimated' 'estimates' 'ev' 'evs'\n",
      " 'exceptional' 'executing' 'expectationswww' 'expenses' 'expert'\n",
      " 'facilitiesinvestors' 'faith' 'featured' 'february' 'figures' 'finance'\n",
      " 'financefinance' 'financesg' 'financial' 'financialcanoo' 'financials'\n",
      " 'financialsabout' 'financialscanoo' 'fiscal' 'float' 'flow'\n",
      " 'fluctuations' 'fool' 'foolwww' 'forecast' 'forecastcanoo' 'forecasts'\n",
      " 'free' 'future' 'generated' 'generating' 'global' 'globe' 'goes' 'goev'\n",
      " 'goevcanoo' 'goevthe' 'good' 'goodyear' 'google' 'gross'\n",
      " 'gross_profit_margingross' 'growing' 'growth' 'guidance' 'healthcanoo'\n",
      " 'heats' 'helps' 'high' 'highlights' 'highly' 'hourpast' 'hourspast'\n",
      " 'imagesview' 'incbased' 'include' 'including' 'income' 'increased'\n",
      " 'increases' 'indiain' 'indicator' 'indmoney' 'indmoneywww' 'industries'\n",
      " 'industry' 'information' 'insettingsprivacytermsdark' 'insights'\n",
      " 'interim' 'international' 'invest' 'investing' 'investment'\n",
      " 'investmentcanoo' 'investments' 'investor' 'investorplaceinvestorplace'\n",
      " 'investors' 'ip' 'ipo' 'ira' 'isn' 'jan' 'jobs' 'jul' 'kayak' 'kept'\n",
      " 'key' 'know' 'landscape' 'latest' 'launches' 'ldv' 'learn' 'lifestyle'\n",
      " 'linkedin' 'linkedinwww' 'long' 'macroaxis' 'macroaxiswww' 'macrotrends'\n",
      " 'macrotrendswww' 'mail' 'mailwww' 'main' 'major' 'make' 'management'\n",
      " 'manufactures' 'manufacturing' 'maps' 'mar' 'march' 'margin' 'margins'\n",
      " 'marginscanoo' 'market' 'market5' 'marketbeat' 'marketbeatwww'\n",
      " 'marketline' 'marketprofshare' 'markets' 'marketscreener' 'mean'\n",
      " 'measures' 'meet' 'metric' 'mexico' 'midnapore' 'milli' 'million'\n",
      " 'missing' 'mobility' 'monthpast' 'months' 'moresign' 'motley' 'motorcar'\n",
      " 'multimillion' 'nasdaq' 'nasdaqcm' 'nasdaqoperating' 'nasdaqwww'\n",
      " 'negotiate' 'net' 'news' 'newswirewww' 'normal' 'nov' 'novemberthe'\n",
      " 'nyse' 'oct' 'oklahoma' 'operating' 'oppor' 'opportunities' 'orders'\n",
      " 'org' 'oscillators' 'outlet' 'outlook' 'outstanding' 'outweigh' 'overall'\n",
      " 'overvalued' 'overview' 'parts' 'pastdiscover' 'paying' 'people'\n",
      " 'percent' 'performance' 'performancesimplywall' 'period' 'picks'\n",
      " 'players' 'portfolios' 'positive' 'pr' 'prediction' 'preferred'\n",
      " 'presentations' 'press' 'pressreleases' 'price' 'pricing' 'prior'\n",
      " 'prnewswire' 'pro' 'product' 'production' 'products'\n",
      " 'profilehyperactively' 'profit' 'profitability' 'profsharemarketresearch'\n",
      " 'projected' 'promis' 'promises' 'proprietary' 'provides' 'public' 'pulse'\n",
      " 'q3' 'quantumscape' 'quarter' 'quarterly' 'quote' 'quotescanoo'\n",
      " 'quoteskey' 'range' 'rate' 'ratecanoe' 'rates' 'ratesearch' 'rating'\n",
      " 'ratio' 'ratios' 'reach' 'readers' 'record' 'redirected' 'reduced'\n",
      " 'reduction' 'regional' 'related' 'relations' 'relationsinvestors'\n",
      " 'relative' 'releases' 'report' 'reported' 'reportstore' 'representing'\n",
      " 'research' 'responds' 'results' 'resultsall' 'resultsinvestors'\n",
      " 'resultsverbatimcanoe' 'resultsverbatimcanoo' 'resultsverbatimdid'\n",
      " 'resultsverbatimincluding' 'resultswww' 'return' 'revenue' 'revenuecanoo'\n",
      " 'revenues' 'revised' 'rising' 'risks' 'risky' 'roe' 'roughly' 'said'\n",
      " 'scale' 'scheduled' 'search' 'searchescanoo' 'searchesis' 'searcheskey'\n",
      " 'searchgoogle' 'seconds' 'security' 'segmentation' 'sell' 'sell26'\n",
      " 'sellgoev' 'sept' 'september' 'seven' 'share' 'shares' 'sheet'\n",
      " 'sheetcanoo' 'sheetwww' 'shopping' 'size' 'snippetsincome' 'speed' 'st'\n",
      " 'starting' 'state' 'statement' 'statement14' 'statements'\n",
      " 'statementscanoo' 'statistics' 'statisticsfinance' 'statisticsfinancial'\n",
      " 'statisticsfind' 'statisticsreturn' 'stock' 'stock16' 'stocks'\n",
      " 'strategies' 'strategy' 'strattec' 'strt' 'study' 'subscribe' 'suggests'\n",
      " 'summary' 'sup' 'superior' 'supply' 'swot' 'systems' 'targeted' 'targets'\n",
      " 'tax' 'team' 'teamsignificantly' 'tech' 'technical' 'tenure' 'term'\n",
      " 'theglobeandmail' 'theme' 'things' 'timeany' 'timelinecanoo' 'timepast'\n",
      " 'tipranks' 'tire' 'today' 'todaycanoo' 'todaykey' 'tools' 'torrance'\n",
      " 'total' 'trades' 'trading' 'trajectory' 'transcriptcanoo' 'trend'\n",
      " 'trends' 'ttm' 'turn' 'type' 'undervalued' 'unexpected' 'usd' 'using'\n",
      " 'valuation' 'value' 'vehicle' 'vehicles' 'versatile' 'videos' 'view'\n",
      " 'visteon' 'volatility' 'volcon' 'vs' 'vulnerabilities' 'weekpast' 'west'\n",
      " 'wiki' 'wikipedia' 'wikipediaen' 'work' 'worth' 'wsj' 'wsjwww' 'www'\n",
      " 'yahoo' 'ychartsycharts' 'year' 'yearall' 'yield' 'yoy' 'zero']\n"
     ]
    }
   ],
   "source": [
    "# TF-IDF vectorization of text\n",
    "from sklearn.feature_extraction.text import TfidfVectorizer\n",
    "from nltk.corpus import stopwords\n",
    "\n",
    "# Load CSV data into a DataFrame\n",
    "db = pd.read_csv('canoo_data.csv')\n",
    "corpus = db['Text'].values\n",
    "\n",
    "# Convert text data into numerical vectors\n",
    "vectorizer = TfidfVectorizer(stop_words='english')\n",
    "\n",
    "X = vectorizer.fit_transform(corpus)\n",
    "\n",
    "print(vectorizer.get_feature_names_out())"
   ]
  },
  {
   "cell_type": "code",
   "execution_count": 12,
   "id": "758d33ff-7497-4fa8-af8a-5e6e3a9a2c02",
   "metadata": {
    "collapsed": true,
    "jupyter": {
     "outputs_hidden": true
    },
    "tags": []
   },
   "outputs": [
    {
     "data": {
      "text/html": [
       "<div>\n",
       "<style scoped>\n",
       "    .dataframe tbody tr th:only-of-type {\n",
       "        vertical-align: middle;\n",
       "    }\n",
       "\n",
       "    .dataframe tbody tr th {\n",
       "        vertical-align: top;\n",
       "    }\n",
       "\n",
       "    .dataframe thead th {\n",
       "        text-align: right;\n",
       "    }\n",
       "</style>\n",
       "<table border=\"1\" class=\"dataframe\">\n",
       "  <thead>\n",
       "    <tr style=\"text-align: right;\">\n",
       "      <th></th>\n",
       "      <th>00</th>\n",
       "      <th>000</th>\n",
       "      <th>01</th>\n",
       "      <th>08</th>\n",
       "      <th>10</th>\n",
       "      <th>100</th>\n",
       "      <th>10m</th>\n",
       "      <th>11</th>\n",
       "      <th>12</th>\n",
       "      <th>135</th>\n",
       "      <th>...</th>\n",
       "      <th>wsjwww</th>\n",
       "      <th>www</th>\n",
       "      <th>yahoo</th>\n",
       "      <th>ychartsycharts</th>\n",
       "      <th>year</th>\n",
       "      <th>yearall</th>\n",
       "      <th>yield</th>\n",
       "      <th>yoy</th>\n",
       "      <th>zero</th>\n",
       "      <th>originalText</th>\n",
       "    </tr>\n",
       "  </thead>\n",
       "  <tbody>\n",
       "    <tr>\n",
       "      <th>0</th>\n",
       "      <td>0.000000</td>\n",
       "      <td>0.11972</td>\n",
       "      <td>0.039907</td>\n",
       "      <td>0.000000</td>\n",
       "      <td>0.039907</td>\n",
       "      <td>0.039907</td>\n",
       "      <td>0.039907</td>\n",
       "      <td>0.000000</td>\n",
       "      <td>0.000000</td>\n",
       "      <td>0.039907</td>\n",
       "      <td>...</td>\n",
       "      <td>0.000000</td>\n",
       "      <td>0.025472</td>\n",
       "      <td>0.125852</td>\n",
       "      <td>0.000000</td>\n",
       "      <td>0.094389</td>\n",
       "      <td>0.020825</td>\n",
       "      <td>0.000000</td>\n",
       "      <td>0.039907</td>\n",
       "      <td>0.039907</td>\n",
       "      <td>Canoo industry size and growth rate - Google S...</td>\n",
       "    </tr>\n",
       "    <tr>\n",
       "      <th>1</th>\n",
       "      <td>0.000000</td>\n",
       "      <td>0.00000</td>\n",
       "      <td>0.000000</td>\n",
       "      <td>0.000000</td>\n",
       "      <td>0.000000</td>\n",
       "      <td>0.000000</td>\n",
       "      <td>0.000000</td>\n",
       "      <td>0.000000</td>\n",
       "      <td>0.072653</td>\n",
       "      <td>0.000000</td>\n",
       "      <td>...</td>\n",
       "      <td>0.000000</td>\n",
       "      <td>0.069560</td>\n",
       "      <td>0.000000</td>\n",
       "      <td>0.000000</td>\n",
       "      <td>0.000000</td>\n",
       "      <td>0.018957</td>\n",
       "      <td>0.000000</td>\n",
       "      <td>0.000000</td>\n",
       "      <td>0.000000</td>\n",
       "      <td>Canoo competitors market share and pricing str...</td>\n",
       "    </tr>\n",
       "    <tr>\n",
       "      <th>2</th>\n",
       "      <td>0.000000</td>\n",
       "      <td>0.00000</td>\n",
       "      <td>0.000000</td>\n",
       "      <td>0.000000</td>\n",
       "      <td>0.000000</td>\n",
       "      <td>0.000000</td>\n",
       "      <td>0.000000</td>\n",
       "      <td>0.037928</td>\n",
       "      <td>0.000000</td>\n",
       "      <td>0.000000</td>\n",
       "      <td>...</td>\n",
       "      <td>0.029903</td>\n",
       "      <td>0.024209</td>\n",
       "      <td>0.000000</td>\n",
       "      <td>0.000000</td>\n",
       "      <td>0.000000</td>\n",
       "      <td>0.019792</td>\n",
       "      <td>0.037928</td>\n",
       "      <td>0.000000</td>\n",
       "      <td>0.000000</td>\n",
       "      <td>Key trends in Canoo's market - Google SearchGo...</td>\n",
       "    </tr>\n",
       "    <tr>\n",
       "      <th>3</th>\n",
       "      <td>0.035944</td>\n",
       "      <td>0.00000</td>\n",
       "      <td>0.000000</td>\n",
       "      <td>0.035944</td>\n",
       "      <td>0.000000</td>\n",
       "      <td>0.000000</td>\n",
       "      <td>0.000000</td>\n",
       "      <td>0.000000</td>\n",
       "      <td>0.000000</td>\n",
       "      <td>0.000000</td>\n",
       "      <td>...</td>\n",
       "      <td>0.028339</td>\n",
       "      <td>0.000000</td>\n",
       "      <td>0.028339</td>\n",
       "      <td>0.035944</td>\n",
       "      <td>0.056677</td>\n",
       "      <td>0.018757</td>\n",
       "      <td>0.000000</td>\n",
       "      <td>0.000000</td>\n",
       "      <td>0.000000</td>\n",
       "      <td>Canoo financial performance revenue and profit...</td>\n",
       "    </tr>\n",
       "  </tbody>\n",
       "</table>\n",
       "<p>4 rows × 585 columns</p>\n",
       "</div>"
      ],
      "text/plain": [
       "         00      000        01        08        10       100       10m  \\\n",
       "0  0.000000  0.11972  0.039907  0.000000  0.039907  0.039907  0.039907   \n",
       "1  0.000000  0.00000  0.000000  0.000000  0.000000  0.000000  0.000000   \n",
       "2  0.000000  0.00000  0.000000  0.000000  0.000000  0.000000  0.000000   \n",
       "3  0.035944  0.00000  0.000000  0.035944  0.000000  0.000000  0.000000   \n",
       "\n",
       "         11        12       135  ...    wsjwww       www     yahoo  \\\n",
       "0  0.000000  0.000000  0.039907  ...  0.000000  0.025472  0.125852   \n",
       "1  0.000000  0.072653  0.000000  ...  0.000000  0.069560  0.000000   \n",
       "2  0.037928  0.000000  0.000000  ...  0.029903  0.024209  0.000000   \n",
       "3  0.000000  0.000000  0.000000  ...  0.028339  0.000000  0.028339   \n",
       "\n",
       "   ychartsycharts      year   yearall     yield       yoy      zero  \\\n",
       "0        0.000000  0.094389  0.020825  0.000000  0.039907  0.039907   \n",
       "1        0.000000  0.000000  0.018957  0.000000  0.000000  0.000000   \n",
       "2        0.000000  0.000000  0.019792  0.037928  0.000000  0.000000   \n",
       "3        0.035944  0.056677  0.018757  0.000000  0.000000  0.000000   \n",
       "\n",
       "                                        originalText  \n",
       "0  Canoo industry size and growth rate - Google S...  \n",
       "1  Canoo competitors market share and pricing str...  \n",
       "2  Key trends in Canoo's market - Google SearchGo...  \n",
       "3  Canoo financial performance revenue and profit...  \n",
       "\n",
       "[4 rows x 585 columns]"
      ]
     },
     "execution_count": 12,
     "metadata": {},
     "output_type": "execute_result"
    }
   ],
   "source": [
    "# Visualizing the Document Term Matrix using TF-IDF\n",
    "import pandas as pd\n",
    "VectorizedText=pd.DataFrame(X.toarray(), columns=vectorizer.get_feature_names_out())\n",
    "VectorizedText['originalText']=pd.Series(corpus)\n",
    "VectorizedText"
   ]
  },
  {
   "cell_type": "code",
   "execution_count": 156,
   "id": "ab274179-6b10-494a-947c-c9dcf18a36c2",
   "metadata": {
    "collapsed": true,
    "jupyter": {
     "outputs_hidden": true
    },
    "tags": []
   },
   "outputs": [
    {
     "name": "stdout",
     "output_type": "stream",
     "text": [
      "Note: you may need to restart the kernel to use updated packages.Requirement already satisfied: spacy in c:\\users\\pulakesh\\anaconda3\\lib\\site-packages (3.6.1)\n",
      "Requirement already satisfied: spacy-legacy<3.1.0,>=3.0.11 in c:\\users\\pulakesh\\anaconda3\\lib\\site-packages (from spacy) (3.0.12)\n",
      "Requirement already satisfied: spacy-loggers<2.0.0,>=1.0.0 in c:\\users\\pulakesh\\anaconda3\\lib\\site-packages (from spacy) (1.0.5)\n",
      "Requirement already satisfied: packaging>=20.0 in c:\\users\\pulakesh\\anaconda3\\lib\\site-packages (from spacy) (21.3)\n",
      "Requirement already satisfied: catalogue<2.1.0,>=2.0.6 in c:\\users\\pulakesh\\anaconda3\\lib\\site-packages (from spacy) (2.0.9)\n"
     ]
    },
    {
     "name": "stderr",
     "output_type": "stream",
     "text": [
      "WARNING: Ignoring invalid distribution -oogle-auth (c:\\users\\pulakesh\\anaconda3\\lib\\site-packages)\n",
      "WARNING: Ignoring invalid distribution -oogle-auth (c:\\users\\pulakesh\\anaconda3\\lib\\site-packages)\n",
      "WARNING: Ignoring invalid distribution -oogle-auth (c:\\users\\pulakesh\\anaconda3\\lib\\site-packages)\n",
      "WARNING: Ignoring invalid distribution -oogle-auth (c:\\users\\pulakesh\\anaconda3\\lib\\site-packages)\n",
      "WARNING: Ignoring invalid distribution -oogle-auth (c:\\users\\pulakesh\\anaconda3\\lib\\site-packages)\n",
      "WARNING: Ignoring invalid distribution -oogle-auth (c:\\users\\pulakesh\\anaconda3\\lib\\site-packages)\n"
     ]
    },
    {
     "name": "stdout",
     "output_type": "stream",
     "text": [
      "\n",
      "Requirement already satisfied: thinc<8.2.0,>=8.1.8 in c:\\users\\pulakesh\\anaconda3\\lib\\site-packages (from spacy) (8.1.12)\n",
      "Requirement already satisfied: wasabi<1.2.0,>=0.9.1 in c:\\users\\pulakesh\\anaconda3\\lib\\site-packages (from spacy) (1.1.2)\n",
      "Requirement already satisfied: langcodes<4.0.0,>=3.2.0 in c:\\users\\pulakesh\\anaconda3\\lib\\site-packages (from spacy) (3.3.0)\n",
      "Requirement already satisfied: jinja2 in c:\\users\\pulakesh\\anaconda3\\lib\\site-packages (from spacy) (2.11.3)\n",
      "Requirement already satisfied: murmurhash<1.1.0,>=0.28.0 in c:\\users\\pulakesh\\anaconda3\\lib\\site-packages (from spacy) (1.0.9)\n",
      "Requirement already satisfied: smart-open<7.0.0,>=5.2.1 in c:\\users\\pulakesh\\anaconda3\\lib\\site-packages (from spacy) (6.4.0)\n",
      "Requirement already satisfied: setuptools in c:\\users\\pulakesh\\anaconda3\\lib\\site-packages (from spacy) (61.2.0)\n",
      "Requirement already satisfied: typer<0.10.0,>=0.3.0 in c:\\users\\pulakesh\\anaconda3\\lib\\site-packages (from spacy) (0.9.0)\n",
      "Requirement already satisfied: preshed<3.1.0,>=3.0.2 in c:\\users\\pulakesh\\anaconda3\\lib\\site-packages (from spacy) (3.0.8)\n",
      "Requirement already satisfied: tqdm<5.0.0,>=4.38.0 in c:\\users\\pulakesh\\anaconda3\\lib\\site-packages (from spacy) (4.64.0)\n",
      "Requirement already satisfied: requests<3.0.0,>=2.13.0 in c:\\users\\pulakesh\\anaconda3\\lib\\site-packages (from spacy) (2.27.1)\n",
      "Requirement already satisfied: pydantic!=1.8,!=1.8.1,<3.0.0,>=1.7.4 in c:\\users\\pulakesh\\anaconda3\\lib\\site-packages (from spacy) (2.3.0)\n",
      "Requirement already satisfied: numpy>=1.15.0 in c:\\users\\pulakesh\\anaconda3\\lib\\site-packages (from spacy) (1.22.4)\n",
      "Requirement already satisfied: srsly<3.0.0,>=2.4.3 in c:\\users\\pulakesh\\anaconda3\\lib\\site-packages (from spacy) (2.4.7)\n",
      "Requirement already satisfied: pathy>=0.10.0 in c:\\users\\pulakesh\\anaconda3\\lib\\site-packages (from spacy) (0.10.2)\n",
      "Requirement already satisfied: cymem<2.1.0,>=2.0.2 in c:\\users\\pulakesh\\anaconda3\\lib\\site-packages (from spacy) (2.0.7)\n",
      "Requirement already satisfied: pyparsing!=3.0.5,>=2.0.2 in c:\\users\\pulakesh\\anaconda3\\lib\\site-packages (from packaging>=20.0->spacy) (3.0.4)\n",
      "Requirement already satisfied: typing-extensions>=4.6.1 in c:\\users\\pulakesh\\anaconda3\\lib\\site-packages (from pydantic!=1.8,!=1.8.1,<3.0.0,>=1.7.4->spacy) (4.9.0)\n",
      "Requirement already satisfied: pydantic-core==2.6.3 in c:\\users\\pulakesh\\anaconda3\\lib\\site-packages (from pydantic!=1.8,!=1.8.1,<3.0.0,>=1.7.4->spacy) (2.6.3)\n",
      "Requirement already satisfied: annotated-types>=0.4.0 in c:\\users\\pulakesh\\anaconda3\\lib\\site-packages (from pydantic!=1.8,!=1.8.1,<3.0.0,>=1.7.4->spacy) (0.5.0)\n",
      "Requirement already satisfied: charset-normalizer~=2.0.0 in c:\\users\\pulakesh\\anaconda3\\lib\\site-packages (from requests<3.0.0,>=2.13.0->spacy) (2.0.4)\n",
      "Requirement already satisfied: certifi>=2017.4.17 in c:\\users\\pulakesh\\anaconda3\\lib\\site-packages (from requests<3.0.0,>=2.13.0->spacy) (2023.7.22)\n",
      "Requirement already satisfied: urllib3<1.27,>=1.21.1 in c:\\users\\pulakesh\\anaconda3\\lib\\site-packages (from requests<3.0.0,>=2.13.0->spacy) (1.26.9)\n",
      "Requirement already satisfied: idna<4,>=2.5 in c:\\users\\pulakesh\\anaconda3\\lib\\site-packages (from requests<3.0.0,>=2.13.0->spacy) (3.3)\n",
      "Requirement already satisfied: confection<1.0.0,>=0.0.1 in c:\\users\\pulakesh\\anaconda3\\lib\\site-packages (from thinc<8.2.0,>=8.1.8->spacy) (0.1.3)\n",
      "Requirement already satisfied: blis<0.8.0,>=0.7.8 in c:\\users\\pulakesh\\anaconda3\\lib\\site-packages (from thinc<8.2.0,>=8.1.8->spacy) (0.7.10)\n",
      "Requirement already satisfied: colorama in c:\\users\\pulakesh\\anaconda3\\lib\\site-packages (from tqdm<5.0.0,>=4.38.0->spacy) (0.4.6)\n",
      "Requirement already satisfied: click<9.0.0,>=7.1.1 in c:\\users\\pulakesh\\anaconda3\\lib\\site-packages (from typer<0.10.0,>=0.3.0->spacy) (8.0.4)\n",
      "Requirement already satisfied: MarkupSafe>=0.23 in c:\\users\\pulakesh\\anaconda3\\lib\\site-packages (from jinja2->spacy) (2.0.1)\n"
     ]
    }
   ],
   "source": [
    "pip install spacy"
   ]
  },
  {
   "cell_type": "code",
   "execution_count": 13,
   "id": "4f3bc7d5-2c1f-4780-b42e-a7cad75a543b",
   "metadata": {
    "tags": []
   },
   "outputs": [
    {
     "name": "stdout",
     "output_type": "stream",
     "text": [
      "Canoo industry size and growth rate - Google SearchGoogle×Please click here if you are not redirected within a few seconds.     AllNewsImagesVideos Maps Shopping Books Search tools    Any timeAny timePast hourPast 24 hoursPast weekPast monthPast yearAll resultsAll resultsVerbatimIncluding results for Canoe industry size and growth rateSearch only for Canoo industry size and growth rateCanoe Market Size, Growth & Trends Report [2024-2030] - LinkedInwww.linkedin.com › pulse › canoe-market-size-growth-trends-report-2024...1 Dec 2023 · By 2030, the global Canoe market size is projected to reach multimillion figures, displaying an unexpected compound annual growth rate between ...People also askHow big is the canoeing market?What is the definition of a canoo?Canoo Inc. (GOEV) valuation measures & financial ... - Yahoo Financesg.finance.yahoo.com › quote › GOEV › key-statisticsReturn on equity (ttm), -170.77%. Income statement. Revenue (ttm), N/A. Revenue per share (ttm), N/A. Quarterly revenue growth (yoy), N/A. Gross profit (ttm), N ...Canoe & Kayak Market Size In 2023 : Growth Opportunities and ...www.linkedin.com › pulse › canoe-kayak-market-size-2023-growth-oppor...19 Sept 2023 · Canoe accounting for Percent of the Canoe & Kayak global market in 2021, is projected to value USD million by 2028, growing at a revised Percent ... Canoo Created Over 100 Jobs in State of Oklahoma to Scale ...investors.canoo.com › news-presentations › press-releases › detail › canoo-...10 Jan 2024 · The company is growing its team across Oklahoma to scale manufacturing and meet customer deliveries of 18,000 committed orders representing $750 ...Canoo Inc. (GOEV) Valuation Measures ... - Yahoo Financefinance.yahoo.com › quote › GOEV › key-statisticsFind out all the key statistics for Canoo Inc. (GOEV), including valuation measures, fiscal year financial statistics, trading record, share statistics and ... Report charts EV industry's growth trajectory, cites Canoojournalrecord.com › 2022 › NovemberThe global EV market, which was worth about $178.5 billion in 2021, has been ... growth rate of roughly 22.5%, the outlet reported. It said exceptional ...Canoo - Wikipediaen.wikipedia.org › wiki › CanooCanoo Inc. is an American automotive company based in Torrance, California, that develops and manufactures electric vehicles. Canoo's research & development ... Where Will Canoo Stock Be in 1 Year? | The Motley Foolwww.fool.com › investing › 2024/01/30 › where-will-canoo-stock-be-in-1...30 Jan 2024 · In the third quarter of 2023, Canoo generated $519,000 of revenue, compared to zero in the prior year period. ... Growth of EVs and Mexico. 628% ...Canoo (GOEV) Market Cap & Net Worth - Stock Analysisstockanalysis.com › stocks › goev › market-capSince March 1, 2019, Canoo's market cap has decreased from $313.10M to $135.24M, a decrease of -56.81%. That is a compound annual growth rate of -15.55%.Management Team :: Canoo Inc. (GOEV)investors.canoo.com › company-information › management-teamSignificantly growing the total addressable market by executing over 50 acquisitions during his tenure, it employed 7,000 people in more than 90 countries. In ...  Next >  Midnapore, West BengalFrom your IP address - Learn moreSign inSettingsPrivacyTermsDark theme: Off\n"
     ]
    }
   ],
   "source": [
    "import spacy\n",
    "\n",
    "# Load the English language model\n",
    "nlp = spacy.load('en_core_web_sm')\n",
    "\n",
    "# Function to generate summary\n",
    "def generate_summary(text, max_length=100):\n",
    "    doc = nlp(text)\n",
    "    sentences = [sent.text for sent in doc.sents]\n",
    "    summary = \" \".join(sentences[:min(len(sentences), max_length)])\n",
    "    return summary\n",
    "\n",
    "# Generate summary\n",
    "corpus = db['Text']\n",
    "summary = generate_summary(corpus.iloc[0])\n",
    "print(summary)"
   ]
  },
  {
   "cell_type": "code",
   "execution_count": 14,
   "id": "04fb7569-0725-4ed4-9910-5f763f927447",
   "metadata": {
    "tags": []
   },
   "outputs": [
    {
     "name": "stdout",
     "output_type": "stream",
     "text": [
      "Canoo competitors market share and pricing strategies - Google SearchGoogle×Please click here if you are not redirected within a few seconds.    AllNewsImagesBooks Maps Videos Shopping Search tools    Any timeAny timePast hourPast 24 hoursPast weekPast monthPast yearAll resultsAll resultsVerbatimCanoe Market Share 2024 Revenue and Price Trends, Size, Growth ...www.linkedin.com › pulse › canoe-market-share-2024-revenue-price-trend...24 Jan 2024 · The report provides an in-depth study of the major players in the market, their competitive landscape, product portfolios, strategies, and ...Canoo Inc Competitors 2023 | Stocks: GOEV - Macroaxiswww.macroaxis.com › competition › GOEVCanoo Inc competes with Goodyear Tire, Quantumscape Corp, Visteon Corp, Dorman Products, and Volcon; as well as few others. The company conducts business under ...GOEV's vs. Market share relative to its competitors, as of Q3 2023csimarket.com › stocks › competitionSEG2Canoo Inc's Q3 2023 quarter and 12 months market share, relative to the GOEV's competitors. Based on total revenues.7 EV Stocks to Sell as Competition Heats Up | InvestorPlaceinvestorplace.com › Expert Stock Picks › Stocks to Sell26 Mar 2023 · With these seven EV stocks to sell, rising competitive risks outweigh long-term vehicle electrification trends. Canoo (GOEV) Competitors and Alternatives 2024 - MarketBeatwww.marketbeat.com › Stocks › NYSE › GOEVThe main competitors of Canoo include Strattec Security (STRT), China Automotive Systems (CAAS), Superior Industries International (SUP), Motorcar Parts of ...People also askWhat is the price forecast for Canoo?What is the stock market prediction for Canoo in 2023?Is Canoo undervalued?What is the analyst rating of Canoo?Canoe Market Analysis, Research, Regional outlook, Competitive ...www.profsharemarketresearch.com › canoe-marketProfshare Market Research launches an in-detailed study of market segmentation, drivers, constraints, regional analysis, trends and forecast of the Canoe ...Canoo Inc (GOEV) - Strategy, SWOT and Corporate Finance Reportstore.marketline.com › report › canoo-inc-swot-analysisCanoo Inc, Key Competitors. Canoo Inc, Ratios based on current share price. Canoo Inc, Annual Ratios. Canoo Inc, Annual Ratios (Cont…1). Canoo Inc, Interim ...2023: Analysis of the Canoe And Kayak Market Share, Products ...www.linkedin.com › pulse › 2023-analysis-canoe-kayak-market-share-pro...12 Jul 2023 · The study's in-depth research of the company's stock helps readers better compete with established competitors in the Canoe And Kayak market. Promises Kept - Canoo Pricing For Lifestyle Vehicle Is Accessible ...investors.canoo.com › news-presentations › press-releases › detail › promis...17 May 2021 · The Lifestyle Vehicle will be the first vehicle to market in 2022, and has targeted pricing starting from $34,750 -$49,950i for Delivery, Base ... Promises Kept - Canoo Pricing For Lifestyle Vehicle ... - PR Newswirewww.prnewswire.com › news-releases › promises-kept--canoo-pricing-for-...17 May 2021 · The Lifestyle Vehicle will be the first vehicle to market in 2022, and has targeted pricing starting from $34,750 -$49,950i for Delivery, Base ... Related searchesIs Canoo a good investmentCanoo stock price prediction 2030Canoo stock forecastCanoo earnings dateCanoo earnings call transcriptCanoo Earnings 2023GOEV buy or sellGOEV stock forecast 2025   Next >  Midnapore, West BengalFrom your IP address - Learn moreSign inSettingsPrivacyTermsDark theme: Off\n"
     ]
    }
   ],
   "source": [
    "corpus = db['Text']\n",
    "summary = generate_summary(corpus.iloc[1])\n",
    "print(summary)"
   ]
  },
  {
   "cell_type": "code",
   "execution_count": null,
   "id": "0529be2f-a0b5-4908-91b9-758341a80fc5",
   "metadata": {},
   "outputs": [],
   "source": [
    "# to see all query we have  to change iloc[0:4]"
   ]
  },
  {
   "cell_type": "code",
   "execution_count": null,
   "id": "e71cba1e-d012-4a80-849d-b9b4935d5cfd",
   "metadata": {},
   "outputs": [],
   "source": []
  },
  {
   "cell_type": "code",
   "execution_count": 18,
   "id": "061ce5e1-aa6f-44db-a4cc-e8c6be596da7",
   "metadata": {},
   "outputs": [],
   "source": [
    "# We can also search by company name  and get a List of Query Links"
   ]
  },
  {
   "cell_type": "code",
   "execution_count": 15,
   "id": "65158c26-db2b-435e-87a9-e03566b4a1cc",
   "metadata": {},
   "outputs": [
    {
     "data": {
      "text/plain": [
       "['https://www.canoo.com/',\n",
       " 'https://www.linkedin.com/company/canoo',\n",
       " 'https://en.wikipedia.org/wiki/Canoo',\n",
       " 'https://www.instagram.com/canoo/?hl=en',\n",
       " 'https://twitter.com/canoo?lang=en',\n",
       " 'https://www.youtube.com/channel/UCjnvEVgMdkcQY980TZPVqkg',\n",
       " 'https://www.usatoday.com/story/money/cars/2023/11/22/a-2024-canoo-lifestyle-vehicle-first-drive-review/71672558007/',\n",
       " 'https://www.facebook.com/Canoo/',\n",
       " 'https://www.theverge.com/2023/7/12/23792450/canoo-ev-nasa-artemis-defense-government']"
      ]
     },
     "execution_count": 15,
     "metadata": {},
     "output_type": "execute_result"
    }
   ],
   "source": [
    "# Search Queries and Get a List of Query Links\n",
    "from googlesearch import search\n",
    "\n",
    "query = \"Canoo\"\n",
    "search_results = search(query, num_results=10)\n",
    "\n",
    "links =[]\n",
    "for result in search_results:\n",
    "    if result not in links:\n",
    "        links.append(result)\n",
    "        \n",
    "links"
   ]
  },
  {
   "cell_type": "code",
   "execution_count": 16,
   "id": "5d362cb0-1893-428a-a7cd-e8fee6e0ca60",
   "metadata": {
    "collapsed": true,
    "jupyter": {
     "outputs_hidden": true
    },
    "tags": []
   },
   "outputs": [
    {
     "name": "stdout",
     "output_type": "stream",
     "text": [
      "Title titleCanoo industry size and growth rate Google Searchtitle Text Canoo industry size and growth rate Google SearchGooglePlease click here if you are not redirected within a few seconds AllNewsImagesVideos Maps Shopping Books Search tools Any timeAny timePast hourPast 24 hoursPast weekPast monthPast yearAll resultsAll resultsVerbatimIncluding results for Canoe industry size and growth rateSearch only for Canoo industry size and growth rateCanoe Market Size Growth Trends Report 20242030 LinkedInwwwlinkedincom pulse canoemarketsizegrowthtrendsreport20241 Dec 2023 By 2030 the global Canoe market size is projected to reach multimillion figures displaying an unexpected compound annual growth rate betweenxa0People also askHow big is the canoeing marketWhat is the definition of a canooCanoo Inc GOEV valuation measures financial Yahoo Financesgfinanceyahoocom quote GOEV keystatisticsReturn on equity ttm 17077 Income statement Revenue ttm NA Revenue per share ttm NA Quarterly revenue growth yoy NA Gross profit ttm Nxa0Canoe Kayak Market Size In 2023 Growth Opportunities and wwwlinkedincom pulse canoekayakmarketsize2023growthoppor19 Sept 2023 Canoe accounting for Percent of the Canoe Kayak global market in 2021 is projected to value USD million by 2028 growing at a revised Percentxa0Canoo Created Over 100 Jobs in State of Oklahoma to Scale investorscanoocom newspresentations pressreleases detail canoo10 Jan 2024 The company is growing its team across Oklahoma to scale manufacturing and meet customer deliveries of 18000 committed orders representing 750xa0Canoo Inc GOEV Valuation Measures Yahoo Financefinanceyahoocom quote GOEV keystatisticsFind out all the key statistics for Canoo Inc GOEV including valuation measures fiscal year financial statistics trading record share statistics andxa0Report charts EV industrys growth trajectory cites Canoojournalrecordcom 2022 NovemberThe global EV market which was worth about 1785 billion in 2021 has been growth rate of roughly 225 the outlet reported It said exceptionalxa0Canoo Wikipediaenwikipediaorg wiki CanooCanoo Inc is an American automotive company based in Torrance California that develops and manufactures electric vehicles Canoos research developmentxa0Where Will Canoo Stock Be in 1 Year The Motley Foolwwwfoolcom investing 20240130 wherewillcanoostockbein130 Jan 2024 In the third quarter of 2023 Canoo generated 519000 of revenue compared to zero in the prior year period Growth of EVs and Mexico 628xa0Canoo GOEV Market Cap Net Worth Stock Analysisstockanalysiscom stocks goev marketcapSince March 1 2019 Canoos market cap has decreased from 31310M to 13524M a decrease of 5681 That is a compound annual growth rate of 1555Management Team Canoo Inc GOEVinvestorscanoocom companyinformation managementteamSignificantly growing the total addressable market by executing over 50 acquisitions during his tenure it employed 7000 people in more than 90 countries Inxa0 Next Midnapore West BengalFrom your IP addressxa0xa0Learn moreSign inSettingsPrivacyTermsDark theme Off Title titleCanoo competitors market share and pricing strategies Google Searchtitle Text Canoo competitors market share and pricing strategies Google SearchGooglePlease click here if you are not redirected within a few seconds AllNewsImagesBooks Maps Videos Shopping Search tools Any timeAny timePast hourPast 24 hoursPast weekPast monthPast yearAll resultsAll resultsVerbatimCanoe Market Share 2024 Revenue and Price Trends Size Growth wwwlinkedincom pulse canoemarketshare2024revenuepricetrend24 Jan 2024 The report provides an indepth study of the major players in the market their competitive landscape product portfolios strategies andxa0Canoo Inc Competitors 2023 Stocks GOEV Macroaxiswwwmacroaxiscom competition GOEVCanoo Inc competes with Goodyear Tire Quantumscape Corp Visteon Corp Dorman Products and Volcon as well as few others The company conducts business underxa0GOEVs vs Market share relative to its competitors as of Q3 2023csimarketcom stocks competitionSEG2Canoo Incs Q3 2023 quarter and 12 months market share relative to the GOEVs competitors Based on total revenues7 EV Stocks to Sell as Competition Heats Up InvestorPlaceinvestorplacecom Expert Stock Picks Stocks to Sell26 Mar 2023 With these seven EV stocks to sell rising competitive risks outweigh longterm vehicle electrification trendsCanoo GOEV Competitors and Alternatives 2024 MarketBeatwwwmarketbeatcom Stocks NYSE GOEVThe main competitors of Canoo include Strattec Security STRT China Automotive Systems CAAS Superior Industries International SUP Motorcar Parts ofxa0People also askWhat is the price forecast for CanooWhat is the stock market prediction for Canoo in 2023Is Canoo undervaluedWhat is the analyst rating of CanooCanoe Market Analysis Research Regional outlook Competitive wwwprofsharemarketresearchcom canoemarketProfshare Market Research launches an indetailed study of market segmentation drivers constraints regional analysis trends and forecast of the Canoexa0Canoo Inc GOEV Strategy SWOT and Corporate Finance Reportstoremarketlinecom report canooincswotanalysisCanoo Inc Key Competitors Canoo Inc Ratios based on current share price Canoo Inc Annual Ratios Canoo Inc Annual Ratios Cont1 Canoo Inc Interimxa02023 Analysis of the Canoe And Kayak Market Share Products wwwlinkedincom pulse 2023analysiscanoekayakmarketsharepro12 Jul 2023 The studys indepth research of the companys stock helps readers better compete with established competitors in the Canoe And Kayak marketPromises Kept Canoo Pricing For Lifestyle Vehicle Is Accessible investorscanoocom newspresentations pressreleases detail promis17 May 2021 The Lifestyle Vehicle will be the first vehicle to market in 2022 and has targeted pricing starting from 34750 49950i for Delivery Basexa0Promises Kept Canoo Pricing For Lifestyle Vehicle PR Newswirewwwprnewswirecom newsreleases promiseskeptcanoopricingfor17 May 2021 The Lifestyle Vehicle will be the first vehicle to market in 2022 and has targeted pricing starting from 34750 49950i for Delivery Basexa0Related searchesIs Canoo a good investmentCanoo stock price prediction 2030Canoo stock forecastCanoo earnings dateCanoo earnings call transcriptCanoo Earnings 2023GOEV buy or sellGOEV stock forecast 2025 Next Midnapore West BengalFrom your IP addressxa0xa0Learn moreSign inSettingsPrivacyTermsDark theme Off Title titleKey trends in Canoos market Google Searchtitle Text Key trends in Canoos market Google SearchGooglePlease click here if you are not redirected within a few seconds AllNewsImagesMaps Videos Shopping Books Search tools Any timeAny timePast hourPast 24 hoursPast weekPast monthPast yearAll resultsAll resultsVerbatimDid you mean Key trends in Canoo market5 Things to Know About Canoo Stock Nasdaqwwwnasdaqcom articles 5thingstoknowaboutcanoostock16 Sept 2023 1 Canoo was not a normal IPO 2 Canoo has yet to make a profit 3 Canoo isnt generating any revenue 4 Canoo is paying as it goes 5People also askWhat is the future for Canoo IncWho is investing in CanooWhat is the Canoo forecast for 2025What is the Canoo price forecast for 2023CANOO INC ANNOUNCES FIRST QUARTER 2023 RESULTSwwwprnewswirecom newsreleases canooincannouncesfirstquarter15 May 2023 PRNewswire Canoo Inc Nasdaq GOEV a hightech advanced mobility company today announced its financial results for the first quarterxa0GOEV Canoo Inc Stock Price News WSJwwwwsjcom QuotesKey Stock Data PE Ratio TTM NA EPS TTM 078 Market Cap 15693 M Shares Outstanding 111 B Public Float 96731 M Yield GOEV is not currentlyxa0Canoo Inc GOEV Technical Analysis Indicator Insights INDmoneywwwindmoneycom US Stocks Canoo IncBased on analysis of the Oscillators technical indicator the current market trend for Canoo Inc stock suggests that it is range bound and no decision canxa0Canoo Increases Production Guidance and Targets for US Facilitiesinvestorscanoocom newspresentations pressreleases detail canoo15 Dec 2021 2024 2025 Production Targets Reduced supply chain vulnerabilities Increased speed to market for our customers Allowing us to control morexa0How risky is to invest in Canoo GOEV Stocks Macroaxiswwwmacroaxiscom Stocks ProfileHyperactively responds to market trends This type of volatility provides a positive outlook on future price fluctuations for Canoos current market priceCanoo has entered into a 45 million Convertible Preferred Stock wwwprnewswirecom newsreleases canoohasenteredintoa45milli2 Oct 2023 Canoo and the investor agreed to work together in good faith to negotiate one or more additional investments for up to 150 million The closingxa05 Things to Know About Canoo Stock The Globe and Mailwwwtheglobeandmailcom markets stocks GOEV pressreleases 516 Sept 2023 Detailed price information for Canoo Inc GOEVQ from The Globe and Mail including charting and tradesImagesView allView allCanoo Market Cap 20192023 GOEV Macrotrendswwwmacrotrendsnet stocks charts GOEV canoo marketcapCanoo market cap as of February 15 2024 is 014B Canoo Inc is engaged in developing breakthrough electric vehicles with a proprietary and highly versatilexa0Related searchesKey trends in canoos market todayKey trends in canoos market 2021Canoo news 2023Why Is Canoo stock droppingCanoo stock news todayCanoo production timelineCanoo stock forecast 2025Canoo news today Next Midnapore West BengalFrom your IP addressxa0xa0Learn moreSign inSettingsPrivacyTermsDark theme Off Title titleCanoo financial performance revenue and profit margins Google Searchtitle Text Canoo financial performance revenue and profit margins Google SearchGooglePlease click here if you are not redirected within a few seconds AllNewsImagesVideos Maps Shopping Books Search tools Any timeAny timePast hourPast 24 hoursPast weekPast monthPast yearAll resultsAll resultsVerbatimCanoo Financial Overviewnn Canoos market cap is currently The companys EPS TTM is 0783 its PE ratio is 019 Canoo is scheduled to report earnings on March 26 2024 and the estimated EPS forecast is 008 See an overview of income statement balance sheet and cash flow financialsCanoo GOEV Financial Statements Cash Flow and Balance Sheetwwwtiprankscom stocks goev financialsAbout featured snippetsIncome Statement Canoo Investor Relationsinvestorscanoocom financialinformation incomestatement14 Nov 2023 Income Statement Abstract Revenue 519 0 519 0 Cost of revenue 903 0 903 0 Gross margin 384 0 384 0Canoo NasdaqCMGOEV Earnings Revenue Performancesimplywallst stocks automobiles nasdaqgoev canoo pastDiscover the latest data for Canoo financials From earnings and revenue to ROE net margins growth rates and more Subscribe for free todayPeople also askIs Canoo overvaluedIs Canoo Inc a good investmentWhat is the prediction for Canoo IncWho is the major investors in CanooGOEV Canoo Inc Financial Statements WSJwwwwsjcom QuotesCanoo Inc balance sheet income statement cash flow earnings estimates ratio and margins View GOEV financial statements in fullCanoo Gross Profit Margin Quarterly YChartsychartscom companies GOEV grossprofitmarginGross Profit Margin is calculated using Gross ProfitRevenue This metric measures the overall efficiency of a company in being able to turn revenue into grossxa0Canoo Inc GOEV Financial Summary Investingcom Indiaininvestingcom Markets Shares CanooGOEV Income Statement GOEV Gross margin TTM 7399 Operating margin TTM 553052 Net Profit margin TTM 6817071 Return on Investment TTM 8733xa0Canoo Profit Margin 20192023 GOEV Macrotrendswwwmacrotrendsnet stocks charts GOEV canoo profitmarginsCanoo net profit margin as of September 30 2023 is 0 Compare GOEV With Other Stocksxa0Missing financial Show results withfinancialCANOO INC ANNOUNCES FIRST QUARTER 2023 RESULTSinvestorscanoocom newspresentations pressreleases detail canoo15 May 2023 Our LDV vehicle is eligible for the full IRA commercial tax credit of 7500 in 2023 25 reduction in annual operating expenses compared toxa0Canoo Inc Financial Data Forecasts Estimates and Expectationswwwmarketscreenercom Equities Stock Canoo Inc NasdaqOperating Margin 1965183 Earnings before Tax EBT 346768 487694 32475333xa0Canoo Inc GOEV Valuation Measures Financial Statisticsfinanceyahoocom quote GOEV keystatisticsFinancial Highlights Fiscal Year Fiscal Year Ends Dec 31 2022 Profitability Profit Margin 000 Management Effectiveness Return on Assets 3664Related searchesCanoo financial statementsCanoo Annual revenueCanoo balance sheetCanoo financial healthCanoo news 2023GOEV financialsCanoo earnings dateCanoo investor Relations Next Midnapore West BengalFrom your IP addressxa0xa0Learn moreSign inSettingsPrivacyTermsDark theme Off\n"
     ]
    }
   ],
   "source": [
    "##### Code For text cleaning Purpose###\n",
    "\n",
    "import re\n",
    "\n",
    "# Check if data is a string or bytes-like object\n",
    "if not isinstance(data, str):\n",
    "    data = str(data)\n",
    "\n",
    "# Remove unwanted characters and whitespace\n",
    "cleaned_data= re.sub(r'[^a-zA-Z0-9\\s]', '', data)\n",
    "\n",
    "# Remove extra whitespace\n",
    "cleaned_data= re.sub(r'\\s+', ' ', cleaned_data).strip()\n",
    "\n",
    "# Print the cleaned data\n",
    "print(cleaned_data)"
   ]
  },
  {
   "cell_type": "code",
   "execution_count": 17,
   "id": "bf150c20-9218-48f5-9dfa-f45b782b8891",
   "metadata": {
    "tags": []
   },
   "outputs": [],
   "source": [
    "# To extract from wikipedia "
   ]
  },
  {
   "cell_type": "code",
   "execution_count": 79,
   "id": "c487b620-3df1-48a9-8026-73a3cd1fa271",
   "metadata": {},
   "outputs": [
    {
     "name": "stdout",
     "output_type": "stream",
     "text": [
      "<p class=\"mw-empty-elt\">\n",
      "\n",
      "</p>\n",
      "<p><b>Canoo Inc.</b> is an American automotive company based in Torrance, California, that develops and manufactures electric vehicles. Canoo's research &amp; development team is based in Michigan, in the Detroit region (Auburn Hills, Livonia), and production operations are in Justin, Texas. The company also plans to produce commercial electric vehicles such as vans for fleet, vehicle rental and ride sharing services.</p>\n"
     ]
    }
   ],
   "source": [
    "import requests\n",
    "\n",
    "def scrape_data_from_wikipedia(page_title):\n",
    "    # URL for the Wikipedia API\n",
    "    url = \"https://en.wikipedia.org/w/api.php\"\n",
    "\n",
    "    # Parameters for the API request\n",
    "    params = {\"action\": \"query\",\"format\": \"json\",\n",
    "              \"prop\": \"extracts\",\"exintro\": True,\n",
    "              \"titles\": page_title}\n",
    "\n",
    "    # Send a GET request to the Wikipedia API\n",
    "    response = requests.get(url, params=params)\n",
    "\n",
    "    if response.status_code == 200:\n",
    "        data = response.json()\n",
    "        page_id = list(data[\"query\"][\"pages\"].keys())[0]\n",
    "        content = data[\"query\"][\"pages\"][page_id][\"extract\"]\n",
    "        return content\n",
    "    else:\n",
    "        print(f\"Failed to fetch data from Wikipedia. Status code: {response.status_code}\")\n",
    "        return None\n",
    "\n",
    "page_title = \"Canoo\"\n",
    "content = scrape_data_from_wikipedia(page_title)\n",
    "if content:\n",
    "    print(content)\n"
   ]
  },
  {
   "cell_type": "code",
   "execution_count": null,
   "id": "0cb57900-04a5-4416-b6e8-11352531d235",
   "metadata": {},
   "outputs": [],
   "source": []
  },
  {
   "cell_type": "code",
   "execution_count": null,
   "id": "cab88ec5-2562-4c8a-8dd4-2d9f76151a6e",
   "metadata": {},
   "outputs": [],
   "source": []
  }
 ],
 "metadata": {
  "kernelspec": {
   "display_name": "Python 3 (ipykernel)",
   "language": "python",
   "name": "python3"
  },
  "language_info": {
   "codemirror_mode": {
    "name": "ipython",
    "version": 3
   },
   "file_extension": ".py",
   "mimetype": "text/x-python",
   "name": "python",
   "nbconvert_exporter": "python",
   "pygments_lexer": "ipython3",
   "version": "3.9.12"
  }
 },
 "nbformat": 4,
 "nbformat_minor": 5
}
