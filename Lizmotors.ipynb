{
 "cells": [
  {
   "cell_type": "code",
   "execution_count": 19,
   "id": "32793df3-64d6-49b2-b1ad-60674a115809",
   "metadata": {},
   "outputs": [],
   "source": [
    "import requests\n",
    "from bs4 import BeautifulSoup\n",
    "import pandas as pd"
   ]
  },
  {
   "cell_type": "code",
   "execution_count": 20,
   "id": "a0f03515-88d6-46c4-89e6-77538687111a",
   "metadata": {
    "tags": []
   },
   "outputs": [],
   "source": [
    "import warnings\n",
    "warnings.filterwarnings('ignore')\n",
    "pip install googlesearch-python"
   ]
  },
  {
   "cell_type": "code",
   "execution_count": 21,
   "id": "303de8b1-05c5-4b69-b941-52a362b6997d",
   "metadata": {},
   "outputs": [
    {
     "data": {
      "text/plain": [
       "['https://investors.canoo.com/financial-information/income-statement',\n",
       " 'https://simplywall.st/stocks/us/automobiles/nasdaq-goev/canoo/past',\n",
       " 'https://www.tipranks.com/stocks/goev/financials',\n",
       " 'https://www.wsj.com/market-data/quotes/GOEV/financials',\n",
       " 'https://ycharts.com/companies/GOEV/gross_profit_margin',\n",
       " 'https://in.investing.com/equities/hennessy-capital-acquisition-corp-financial-summary',\n",
       " 'https://www.macrotrends.net/stocks/charts/GOEV/canoo/profit-margins']"
      ]
     },
     "execution_count": 21,
     "metadata": {},
     "output_type": "execute_result"
    }
   ],
   "source": [
    "# Step 1: Search Queries and Get a List of Query Links\n",
    "from googlesearch import search\n",
    "\n",
    "queries =[\"Canoo industry size and growth rate\",\n",
    "           \"Canoo competitors market share and pricing strategies\",\n",
    "           \"Key trends in Canoo's market\",\n",
    "           \"Canoo financial performance revenue and profit margins\"]\n",
    "for query in queries:\n",
    "    search_results = search(query,num_results=5)\n",
    "    links =[]\n",
    "    for result in search_results:\n",
    "            if result not in links:\n",
    "                links.append(result)\n",
    "\n",
    "links"
   ]
  },
  {
   "cell_type": "code",
   "execution_count": 23,
   "id": "d1a58d5c-78d0-4111-a062-88c1dc29da72",
   "metadata": {
    "tags": []
   },
   "outputs": [
    {
     "data": {
      "text/plain": [
       "[{'Title': <title>Canoo industry size and growth rate - Google Search</title>,\n",
       "  'Text': \"Canoo industry size and growth rate - Google SearchGoogle×Please click here if you are not redirected within a few seconds.    AllNewsImagesVideos Maps Shopping Books Search tools    Any timeAny timePast hourPast 24 hoursPast weekPast monthPast yearAll resultsAll resultsVerbatimIncluding results for Canoe industry size and growth rateSearch only for Canoo industry size and growth rateCanoe Market Size, Growth & Trends Report [2024-2030] - LinkedInwww.linkedin.com › pulse › canoe-market-size-growth-trends-report-2024...1 Dec 2023 · By 2030, the global Canoe market size is projected to reach multimillion figures, displaying an unexpected compound annual growth rate between\\xa0...People also askHow big is the canoeing market?What is the definition of a canoo?Canoo Inc. (GOEV) valuation measures & financial ... - Yahoo Financesg.finance.yahoo.com › quote › GOEV › key-statisticsReturn on equity (ttm), -170.77%. Income statement. Revenue (ttm), N/A. Revenue per share (ttm), N/A. Quarterly revenue growth (yoy), N/A. Gross profit (ttm), N\\xa0...Canoe Market Size In 2023 : Share, Trends, Opportunities Analysis ...www.linkedin.com › pulse › canoe-market-size-2023-share-trends-opportu...6 Oct 2023 · The Global Canoe market is anticipated to rise at a considerable rate during the forecast period, between 2023 and 2030. In 2022, the market is\\xa0...Canoo Created Over 100 Jobs in State of Oklahoma to Scale ...investors.canoo.com › news-presentations › press-releases › detail › canoo-...10 Jan 2024 · The company is growing its team across Oklahoma to scale manufacturing and meet customer deliveries of 18,000 committed orders representing $750\\xa0...Canoo Inc. (GOEV) Valuation Measures ... - Yahoo Financefinance.yahoo.com › quote › GOEV › key-statisticsFind out all the key statistics for Canoo Inc. (GOEV), including valuation measures, fiscal year financial statistics, trading record, share statistics and\\xa0...Report charts EV industry's growth trajectory, cites Canoojournalrecord.com › 2022 › NovemberThe global EV market, which was worth about $178.5 billion in 2021, has been ... growth rate of roughly 22.5%, the outlet reported. It said exceptional\\xa0...Canoo - Wikipediaen.wikipedia.org › wiki › CanooCanoo Inc. is an American automotive company based in Torrance, California, that develops and manufactures electric vehicles. Canoo's research & development\\xa0...Where Will Canoo Stock Be in 1 Year? | The Motley Foolwww.fool.com › investing › 2024/01/30 › where-will-canoo-stock-be-in-1...30 Jan 2024 · In the third quarter of 2023, Canoo generated $519,000 of revenue, compared to zero in the prior year period. ... Growth of EVs and Mexico. 628%\\xa0...Canoo (GOEV) Market Cap & Net Worth - Stock Analysisstockanalysis.com › stocks › goev › market-capSince March 1, 2019, Canoo's market cap has decreased from $313.10M to $135.24M, a decrease of -56.81%. That is a compound annual growth rate of -15.55%.goev-20211231 - Canoo Investor Relationsinvestors.canoo.com › sec-filings › all-sec-filings › content › goev-202112...The addressable upfitting and accessories market in the United States is estimated to be over $24 billion. Customers will be able to choose to purchase\\xa0...  Next >  Midnapore, West BengalFrom your IP address\\xa0-\\xa0Learn moreSign inSettingsPrivacyTermsDark theme: Off \"},\n",
       " {'Title': <title>Canoo competitors market share and pricing strategies - Google Search</title>,\n",
       "  'Text': \"Canoo competitors market share and pricing strategies - Google SearchGoogle×Please click here if you are not redirected within a few seconds.    AllNewsImagesBooks Maps Videos Shopping Search tools    Any timeAny timePast hourPast 24 hoursPast weekPast monthPast yearAll resultsAll resultsVerbatimCanoe Market Share 2024 Revenue and Price Trends, Size, Growth ...www.linkedin.com › pulse › canoe-market-share-2024-revenue-price-trend...24 Jan 2024 · The report provides an in-depth study of the major players in the market, their competitive landscape, product portfolios, strategies, and\\xa0...Canoo Inc Competitors 2023 | Stocks: GOEV - Macroaxiswww.macroaxis.com › competition › GOEVCanoo Inc competes with Goodyear Tire, Quantumscape Corp, Visteon Corp, Dorman Products, and Volcon; as well as few others. The company conducts business under\\xa0...GOEV's vs. Market share relative to its competitors, as of Q3 2023csimarket.com › stocks › competitionSEG2Canoo Inc's Q3 2023 quarter and 12 months market share, relative to the GOEV's competitors. Based on total revenues.7 EV Stocks to Sell as Competition Heats Up | InvestorPlaceinvestorplace.com › Expert Stock Picks › Stocks to Sell26 Mar 2023 · With these seven EV stocks to sell, rising competitive risks outweigh long-term vehicle electrification trends.Canoo (GOEV) Competitors and Alternatives 2024 - MarketBeatwww.marketbeat.com › Stocks › NYSE › GOEVThe main competitors of Canoo include Strattec Security (STRT), China Automotive Systems (CAAS), Superior Industries International (SUP), Motorcar Parts of\\xa0...Canoe Market Analysis, Research, Regional outlook, Competitive ...www.profsharemarketresearch.com › canoe-marketProfshare Market Research launches an in-detailed study of market segmentation, drivers, constraints, regional analysis, trends and forecast of the Canoe\\xa0...People also askWhat is the target price for Canoo?What is the Canoo price forecast for 2023?What is the future price of Canoo stock?Is Canoo undervalued?Canoo Inc (GOEV) - Strategy, SWOT and Corporate Finance Reportstore.marketline.com › report › canoo-inc-swot-analysisCanoo Inc, Key Competitors. Canoo Inc, Ratios based on current share price. Canoo Inc, Annual Ratios. Canoo Inc, Annual Ratios (Cont…1). Canoo Inc, Interim\\xa0...2023: Analysis of the Canoe And Kayak Market Share, Products ...www.linkedin.com › pulse › 2023-analysis-canoe-kayak-market-share-pro...12 Jul 2023 · The study's in-depth research of the company's stock helps readers better compete with established competitors in the Canoe And Kayak market.Promises Kept - Canoo Pricing For Lifestyle Vehicle Is Accessible ...investors.canoo.com › news-presentations › press-releases › detail › promis...17 May 2021 · The Lifestyle Vehicle will be the first vehicle to market in 2022, and has targeted pricing starting from $34,750 -$49,950i for Delivery, Base\\xa0...Promises Kept - Canoo Pricing For Lifestyle Vehicle ... - PR Newswirewww.prnewswire.com › news-releases › promises-kept--canoo-pricing-for-...17 May 2021 · The Lifestyle Vehicle will be the first vehicle to market in 2022, and has targeted pricing starting from $34,750 -$49,950i for Delivery, Base\\xa0...Related searchesIs Canoo a good investmentCanoo stock price prediction 2030Canoo stock forecastCanoo earnings dateCanoo earnings call transcriptCanoo Earnings 2023GOEV buy or sellGOEV stock forecast 2025  Next >  Midnapore, West BengalFrom your IP address\\xa0-\\xa0Learn moreSign inSettingsPrivacyTermsDark theme: Off \"},\n",
       " {'Title': <title>Key trends in Canoo's market - Google Search</title>,\n",
       "  'Text': \"Key trends in Canoo's market - Google SearchGoogle×Please click here if you are not redirected within a few seconds.    AllNewsImagesMaps Videos Shopping Books Search tools    Any timeAny timePast hourPast 24 hoursPast weekPast monthPast yearAll resultsAll resultsVerbatimDid you mean: Key trends in Canoo market5 Things to Know About Canoo Stock - Nasdaqwww.nasdaq.com › articles › 5-things-to-know-about-canoo-stock16 Sept 2023 · 1. Canoo was not a normal IPO · 2. Canoo has yet to make a profit · 3. Canoo isn't generating any revenue · 4. Canoo is paying as it goes · 5.People also askWhat is the future for Canoo Inc?Who is investing in Canoo?What is the Canoo forecast for 2025?What is the Canoo price forecast for 2023?CANOO INC. ANNOUNCES FIRST QUARTER 2023 RESULTSwww.prnewswire.com › news-releases › canoo-inc-announces-first-quarter-...15 May 2023 · PRNewswire/ -- Canoo Inc. (Nasdaq: GOEV), a high-tech advanced mobility company, today announced its financial results for the first quarter\\xa0...GOEV | Canoo Inc. Stock Price & News - WSJwww.wsj.com › QuotesKey Stock Data · P/E Ratio (TTM). N/A · EPS (TTM) -0.78 · Market Cap 156.93 M · Shares Outstanding. 1.11 B · Public Float. 967.31 M · Yield. GOEV is not currently\\xa0...Canoo Inc (GOEV) Technical Analysis - Indicator Insights - INDmoneywww.indmoney.com › US Stocks › Canoo IncBased on analysis of the Oscillators technical indicator, the current market trend for Canoo Inc stock suggests that it is range bound and no decision can\\xa0...Canoo Increases Production Guidance and Targets for US Facilitiesinvestors.canoo.com › news-presentations › press-releases › detail › canoo-...15 Dec 2021 · 2024 - 2025 Production Targets · Reduced supply chain vulnerabilities, · Increased speed to market for our customers, · Allowing us to control more\\xa0...How risky is to invest in Canoo? GOEV - Stocks - Macroaxiswww.macroaxis.com › Stocks › ProfileHyperactively responds to market trends ... This type of volatility provides a positive outlook on future price fluctuations for Canoo's current market price.Canoo has entered into a $45 million Convertible Preferred Stock ...www.prnewswire.com › news-releases › canoo-has-entered-into-a-45-milli...2 Oct 2023 · Canoo and the investor agreed to work together in good faith to negotiate one or more additional investments for up to $150 million. The closing\\xa0...5 Things to Know About Canoo Stock - The Globe and Mailwww.theglobeandmail.com › markets › stocks › GOEV › pressreleases › 5-...16 Sept 2023 · Detailed price information for Canoo Inc (GOEV-Q) from The Globe and Mail including charting and trades.Canoo Market Cap 2019-2023 | GOEV - Macrotrendswww.macrotrends.net › stocks › charts › GOEV › canoo › market-capCanoo market cap as of February 15, 2024 is $0.14B. Canoo Inc. is engaged in developing breakthrough electric vehicles with a proprietary and highly versatile\\xa0...ImagesView allView allRelated searchesKey trends in canoo's market todayKey trends in canoo's market 2021Canoo news 2023Why Is Canoo stock droppingCanoo stock news todayCanoo production timelineCanoo stock forecast 2025Canoo news today  Next >  Midnapore, West BengalFrom your IP address\\xa0-\\xa0Learn moreSign inSettingsPrivacyTermsDark theme: Off \"},\n",
       " {'Title': <title>Canoo financial performance revenue and profit margins - Google Search</title>,\n",
       "  'Text': \"Canoo financial performance revenue and profit margins - Google SearchGoogle×Please click here if you are not redirected within a few seconds.    AllNewsImagesVideos Maps Shopping Books Search tools    Any timeAny timePast hourPast 24 hoursPast weekPast monthPast yearAll resultsAll resultsVerbatimCanoo Financial Overview\\n\\n Canoo's market cap is currently ―. The company's EPS TTM is $-0.783; its P/E ratio is -0.19; Canoo is scheduled to report earnings on March 26, 2024, and the estimated EPS forecast is $-0.08. See an overview of income statement, balance sheet, and cash flow financials.Canoo (GOEV) Financial Statements, Cash Flow and Balance Sheetwww.tipranks.com › stocks › goev › financialsAbout featured snippetsIncome Statement - Canoo Investor Relationsinvestors.canoo.com › financial-information › income-statement14 Nov 2023 · Income Statement [Abstract]. Revenue, $ 519, $ 0, $ 519, $ 0. Cost of revenue, 903, 0, 903, 0. Gross margin, (384), 0, (384), 0.Canoo (NasdaqCM:GOEV) - Earnings & Revenue Performancesimplywall.st › stocks › automobiles › nasdaq-goev › canoo › pastDiscover the latest data for Canoo financials. From earnings and revenue to ROE, net margins, growth rates and more. Subscribe for free today!People also askIs Canoo overvalued?Is Canoo Inc a good investment?What is the earnings forecast for Canoo?What is the future of GOEV?GOEV | Canoo Inc. Financial Statements - WSJwww.wsj.com › QuotesCanoo Inc. balance sheet, income statement, cash flow, earnings & estimates, ratio and margins. View GOEV financial statements in full.Canoo Gross Profit Margin (Quarterly) - YChartsycharts.com › companies › GOEV › gross_profit_marginGross Profit Margin is calculated using Gross Profit/Revenue. This metric measures the overall efficiency of a company in being able to turn revenue into gross\\xa0...Canoo Inc (GOEV) Financial Summary - Investing.com Indiain.investing.com › Markets › Shares › CanooGOEV Income Statement. GOEV. Gross margin TTM, -73.99%. Operating margin TTM, -55,305.2%. Net Profit margin TTM, -68,170.71%. Return on Investment TTM, -87.33%\\xa0...Canoo Profit Margin 2019-2023 | GOEV - Macrotrendswww.macrotrends.net › stocks › charts › GOEV › canoo › profit-marginsCanoo net profit margin as of September 30, 2023 is 0%. Compare GOEV With Other Stocks\\xa0...Missing:  financial | Show results with:financialCANOO INC. ANNOUNCES FIRST QUARTER 2023 RESULTSinvestors.canoo.com › news-presentations › press-releases › detail › canoo-...15 May 2023 · Our LDV vehicle is eligible for the full IRA commercial tax credit of $7,500 in 2023; 25% reduction in annual operating expenses compared to\\xa0...Canoo Inc.: Financial Data Forecasts Estimates and Expectationswww.marketscreener.com › Equities › Stock Canoo Inc. - NasdaqOperating Margin, -, -, -, -19,651.83% ; Earnings before Tax (EBT) · -, -346.768, -487.694, -324.75333\\xa0...Canoo Inc. (GOEV) Valuation Measures & Financial Statisticsfinance.yahoo.com › quote › GOEV › key-statisticsFinancial Highlights ; Fiscal Year. Fiscal Year Ends, Dec 31, 2022 ; Profitability. Profit Margin, 0.00% ; Management Effectiveness. Return on Assets · -36.64%.Related searchesCanoo financial statementsCanoo Annual revenueCanoo balance sheetCanoo financial healthCanoo news 2023GOEV financialsCanoo earnings dateCanoo investor Relations  Next >  Midnapore, West BengalFrom your IP address\\xa0-\\xa0Learn moreSign inSettingsPrivacyTermsDark theme: Off \"}]"
      ]
     },
     "execution_count": 23,
     "metadata": {},
     "output_type": "execute_result"
    }
   ],
   "source": [
    "# Step 2: Scrape Data from Web Links\n",
    "data = []\n",
    "queries = [\"Canoo industry size and growth rate\",\n",
    "           \"Canoo competitors market share and pricing strategies\",\n",
    "           \"Key trends in Canoo's market\",\n",
    "           \"Canoo financial performance revenue and profit margins\"]\n",
    "for query in queries:\n",
    "    url = f\"https://google.com/search?q={query}\"  \n",
    "    response = requests.get(url)\n",
    "    soup = BeautifulSoup(response.text, \"html.parser\")\n",
    "    title = soup.title         # Extract relevant information from the page\n",
    "    text = soup.get_text()\n",
    "    data.append({\"Title\": title, \"Text\": text})\n",
    "data  "
   ]
  },
  {
   "cell_type": "code",
   "execution_count": 24,
   "id": "5335ed7f-f9fe-48cc-9124-cb9a4b67e0bf",
   "metadata": {
    "tags": []
   },
   "outputs": [],
   "source": [
    "# we can also use link and scrape the data from links \n",
    "data = []\n",
    "for link in links:\n",
    "    response = requests.get(link)\n",
    "    soup = BeautifulSoup(response.text, 'html.parser')\n",
    "   \n",
    "    title = soup.title         # Extract relevant information from the page\n",
    "    text = soup.get_text()\n",
    "    data.append({\"Title\": title, \"Text\": text})\n",
    "data     "
   ]
  },
  {
   "cell_type": "code",
   "execution_count": 25,
   "id": "4b208610-7e5e-4891-9bee-50c17d14c3c4",
   "metadata": {},
   "outputs": [],
   "source": [
    "#store the scraped data in a CSV file\n",
    "df = pd.DataFrame(data)\n",
    "df.to_csv('canoo_data.csv', index=False)"
   ]
  },
  {
   "cell_type": "code",
   "execution_count": 10,
   "id": "9b6b678e-4bcc-4683-838a-a79fd243e6c8",
   "metadata": {},
   "outputs": [],
   "source": [
    "# importing NLTK library\n",
    "import nltk"
   ]
  },
  {
   "cell_type": "code",
   "execution_count": 26,
   "id": "fcf96691-633f-4f9d-b57e-333917911d5d",
   "metadata": {
    "tags": []
   },
   "outputs": [],
   "source": [
    "# TF-IDF vectorization of text\n",
    "from sklearn.feature_extraction.text import TfidfVectorizer\n",
    "from nltk.corpus import stopwords\n",
    "\n",
    "# Load CSV data into a DataFrame\n",
    "db = pd.read_csv('canoo_data.csv')\n",
    "corpus = db['Text'].values\n",
    "\n",
    "# Convert text data into numerical vectors\n",
    "vectorizer = TfidfVectorizer(stop_words='english')\n",
    "\n",
    "X = vectorizer.fit_transform(corpus)\n",
    "\n",
    "print(vectorizer.get_feature_names_out())"
   ]
  },
  {
   "cell_type": "code",
   "execution_count": 27,
   "id": "758d33ff-7497-4fa8-af8a-5e6e3a9a2c02",
   "metadata": {
    "tags": []
   },
   "outputs": [],
   "source": [
    "# Visualizing the Document Term Matrix using TF-IDF\n",
    "import pandas as pd\n",
    "VectorizedText=pd.DataFrame(X.toarray(), columns=vectorizer.get_feature_names_out())\n",
    "VectorizedText['originalText']=pd.Series(corpus)\n",
    "VectorizedText"
   ]
  },
  {
   "cell_type": "code",
   "execution_count": 28,
   "id": "ab274179-6b10-494a-947c-c9dcf18a36c2",
   "metadata": {
    "tags": []
   },
   "outputs": [],
   "source": [
    "pip install spacy"
   ]
  },
  {
   "cell_type": "code",
   "execution_count": 29,
   "id": "4f3bc7d5-2c1f-4780-b42e-a7cad75a543b",
   "metadata": {
    "tags": []
   },
   "outputs": [
    {
     "name": "stdout",
     "output_type": "stream",
     "text": [
      "Canoo industry size and growth rate - Google SearchGoogle×Please click here if you are not redirected within a few seconds.     AllNewsImagesVideos Maps Shopping Books Search tools    Any timeAny timePast hourPast 24 hoursPast weekPast monthPast yearAll resultsAll resultsVerbatimIncluding results for Canoe industry size and growth rateSearch only for Canoo industry size and growth rateCanoe Market Size, Growth & Trends Report [2024-2030] - LinkedInwww.linkedin.com › pulse › canoe-market-size-growth-trends-report-2024...1 Dec 2023 · By 2030, the global Canoe market size is projected to reach multimillion figures, displaying an unexpected compound annual growth rate between ...People also askHow big is the canoeing market?What is the definition of a canoo?Canoo Inc. (GOEV) valuation measures & financial ... - Yahoo Financesg.finance.yahoo.com › quote › GOEV › key-statisticsReturn on equity (ttm), -170.77%. Income statement. Revenue (ttm), N/A. Revenue per share (ttm), N/A. Quarterly revenue growth (yoy), N/A. Gross profit (ttm), N ...Canoe & Kayak Market Size In 2023 : Growth Opportunities and ...www.linkedin.com › pulse › canoe-kayak-market-size-2023-growth-oppor...19 Sept 2023 · Canoe accounting for Percent of the Canoe & Kayak global market in 2021, is projected to value USD million by 2028, growing at a revised Percent ... Canoo Created Over 100 Jobs in State of Oklahoma to Scale ...investors.canoo.com › news-presentations › press-releases › detail › canoo-...10 Jan 2024 · The company is growing its team across Oklahoma to scale manufacturing and meet customer deliveries of 18,000 committed orders representing $750 ...Canoo Inc. (GOEV) Valuation Measures ... - Yahoo Financefinance.yahoo.com › quote › GOEV › key-statisticsFind out all the key statistics for Canoo Inc. (GOEV), including valuation measures, fiscal year financial statistics, trading record, share statistics and ... Report charts EV industry's growth trajectory, cites Canoojournalrecord.com › 2022 › NovemberThe global EV market, which was worth about $178.5 billion in 2021, has been ... growth rate of roughly 22.5%, the outlet reported. It said exceptional ...Canoo - Wikipediaen.wikipedia.org › wiki › CanooCanoo Inc. is an American automotive company based in Torrance, California, that develops and manufactures electric vehicles. Canoo's research & development ... Where Will Canoo Stock Be in 1 Year? | The Motley Foolwww.fool.com › investing › 2024/01/30 › where-will-canoo-stock-be-in-1...30 Jan 2024 · In the third quarter of 2023, Canoo generated $519,000 of revenue, compared to zero in the prior year period. ... Growth of EVs and Mexico. 628% ...Canoo (GOEV) Market Cap & Net Worth - Stock Analysisstockanalysis.com › stocks › goev › market-capSince March 1, 2019, Canoo's market cap has decreased from $313.10M to $135.24M, a decrease of -56.81%. That is a compound annual growth rate of -15.55%.Management Team :: Canoo Inc. (GOEV)investors.canoo.com › company-information › management-teamSignificantly growing the total addressable market by executing over 50 acquisitions during his tenure, it employed 7,000 people in more than 90 countries. In ...  Next >  Midnapore, West BengalFrom your IP address - Learn moreSign inSettingsPrivacyTermsDark theme: Off\n"
     ]
    }
   ],
   "source": [
    "import spacy\n",
    "\n",
    "# Load the English language model\n",
    "nlp = spacy.load('en_core_web_sm')\n",
    "\n",
    "# Function to generate summary\n",
    "def generate_summary(text, max_length=100):\n",
    "    doc = nlp(text)\n",
    "    sentences = [sent.text for sent in doc.sents]\n",
    "    summary = \" \".join(sentences[:min(len(sentences), max_length)])\n",
    "    return summary\n",
    "\n",
    "# Generate summary\n",
    "corpus = db['Text']\n",
    "summary = generate_summary(corpus.iloc[0])\n",
    "print(summary)"
   ]
  },
  {
   "cell_type": "code",
   "execution_count": 30,
   "id": "04fb7569-0725-4ed4-9910-5f763f927447",
   "metadata": {
    "tags": []
   },
   "outputs": [
    {
     "name": "stdout",
     "output_type": "stream",
     "text": [
      "Canoo competitors market share and pricing strategies - Google SearchGoogle×Please click here if you are not redirected within a few seconds.    AllNewsImagesBooks Maps Videos Shopping Search tools    Any timeAny timePast hourPast 24 hoursPast weekPast monthPast yearAll resultsAll resultsVerbatimCanoe Market Share 2024 Revenue and Price Trends, Size, Growth ...www.linkedin.com › pulse › canoe-market-share-2024-revenue-price-trend...24 Jan 2024 · The report provides an in-depth study of the major players in the market, their competitive landscape, product portfolios, strategies, and ...Canoo Inc Competitors 2023 | Stocks: GOEV - Macroaxiswww.macroaxis.com › competition › GOEVCanoo Inc competes with Goodyear Tire, Quantumscape Corp, Visteon Corp, Dorman Products, and Volcon; as well as few others. The company conducts business under ...GOEV's vs. Market share relative to its competitors, as of Q3 2023csimarket.com › stocks › competitionSEG2Canoo Inc's Q3 2023 quarter and 12 months market share, relative to the GOEV's competitors. Based on total revenues.7 EV Stocks to Sell as Competition Heats Up | InvestorPlaceinvestorplace.com › Expert Stock Picks › Stocks to Sell26 Mar 2023 · With these seven EV stocks to sell, rising competitive risks outweigh long-term vehicle electrification trends. Canoo (GOEV) Competitors and Alternatives 2024 - MarketBeatwww.marketbeat.com › Stocks › NYSE › GOEVThe main competitors of Canoo include Strattec Security (STRT), China Automotive Systems (CAAS), Superior Industries International (SUP), Motorcar Parts of ...People also askWhat is the price forecast for Canoo?What is the stock market prediction for Canoo in 2023?Is Canoo undervalued?What is the analyst rating of Canoo?Canoe Market Analysis, Research, Regional outlook, Competitive ...www.profsharemarketresearch.com › canoe-marketProfshare Market Research launches an in-detailed study of market segmentation, drivers, constraints, regional analysis, trends and forecast of the Canoe ...Canoo Inc (GOEV) - Strategy, SWOT and Corporate Finance Reportstore.marketline.com › report › canoo-inc-swot-analysisCanoo Inc, Key Competitors. Canoo Inc, Ratios based on current share price. Canoo Inc, Annual Ratios. Canoo Inc, Annual Ratios (Cont…1). Canoo Inc, Interim ...2023: Analysis of the Canoe And Kayak Market Share, Products ...www.linkedin.com › pulse › 2023-analysis-canoe-kayak-market-share-pro...12 Jul 2023 · The study's in-depth research of the company's stock helps readers better compete with established competitors in the Canoe And Kayak market. Promises Kept - Canoo Pricing For Lifestyle Vehicle Is Accessible ...investors.canoo.com › news-presentations › press-releases › detail › promis...17 May 2021 · The Lifestyle Vehicle will be the first vehicle to market in 2022, and has targeted pricing starting from $34,750 -$49,950i for Delivery, Base ... Promises Kept - Canoo Pricing For Lifestyle Vehicle ... - PR Newswirewww.prnewswire.com › news-releases › promises-kept--canoo-pricing-for-...17 May 2021 · The Lifestyle Vehicle will be the first vehicle to market in 2022, and has targeted pricing starting from $34,750 -$49,950i for Delivery, Base ... Related searchesIs Canoo a good investmentCanoo stock price prediction 2030Canoo stock forecastCanoo earnings dateCanoo earnings call transcriptCanoo Earnings 2023GOEV buy or sellGOEV stock forecast 2025   Next >  Midnapore, West BengalFrom your IP address - Learn moreSign inSettingsPrivacyTermsDark theme: Off\n"
     ]
    }
   ],
   "source": [
    "corpus = db['Text']\n",
    "summary = generate_summary(corpus.iloc[1])\n",
    "print(summary)"
   ]
  },
  {
   "cell_type": "code",
   "execution_count": null,
   "id": "0529be2f-a0b5-4908-91b9-758341a80fc5",
   "metadata": {},
   "outputs": [],
   "source": [
    "# to see all query we have  to change iloc[0:4]"
   ]
  },
  {
   "cell_type": "code",
   "execution_count": null,
   "id": "e71cba1e-d012-4a80-849d-b9b4935d5cfd",
   "metadata": {},
   "outputs": [],
   "source": []
  },
  {
   "cell_type": "code",
   "execution_count": 18,
   "id": "061ce5e1-aa6f-44db-a4cc-e8c6be596da7",
   "metadata": {},
   "outputs": [],
   "source": [
    "# We can also search by company name  and get a List of Query Links"
   ]
  },
  {
   "cell_type": "code",
   "execution_count": 15,
   "id": "65158c26-db2b-435e-87a9-e03566b4a1cc",
   "metadata": {},
   "outputs": [
    {
     "data": {
      "text/plain": [
       "['https://www.canoo.com/',\n",
       " 'https://www.linkedin.com/company/canoo',\n",
       " 'https://en.wikipedia.org/wiki/Canoo',\n",
       " 'https://www.instagram.com/canoo/?hl=en',\n",
       " 'https://twitter.com/canoo?lang=en',\n",
       " 'https://www.youtube.com/channel/UCjnvEVgMdkcQY980TZPVqkg',\n",
       " 'https://www.usatoday.com/story/money/cars/2023/11/22/a-2024-canoo-lifestyle-vehicle-first-drive-review/71672558007/',\n",
       " 'https://www.facebook.com/Canoo/',\n",
       " 'https://www.theverge.com/2023/7/12/23792450/canoo-ev-nasa-artemis-defense-government']"
      ]
     },
     "execution_count": 15,
     "metadata": {},
     "output_type": "execute_result"
    }
   ],
   "source": [
    "# Search Queries and Get a List of Query Links\n",
    "from googlesearch import search\n",
    "\n",
    "query = \"Canoo\"\n",
    "search_results = search(query, num_results=10)\n",
    "\n",
    "links =[]\n",
    "for result in search_results:\n",
    "    if result not in links:\n",
    "        links.append(result)\n",
    "        \n",
    "links"
   ]
  },
  {
   "cell_type": "code",
   "execution_count": 31,
   "id": "5d362cb0-1893-428a-a7cd-e8fee6e0ca60",
   "metadata": {
    "tags": []
   },
   "outputs": [],
   "source": [
    "##### Code For text cleaning Purpose###\n",
    "\n",
    "import re\n",
    "\n",
    "# Check if data is a string or bytes-like object\n",
    "if not isinstance(data, str):\n",
    "    data = str(data)\n",
    "\n",
    "# Remove unwanted characters and whitespace\n",
    "cleaned_data= re.sub(r'[^a-zA-Z0-9\\s]', '', data)\n",
    "\n",
    "# Remove extra whitespace\n",
    "cleaned_data= re.sub(r'\\s+', ' ', cleaned_data).strip()\n",
    "\n",
    "# Print the cleaned data\n",
    "print(cleaned_data)"
   ]
  },
  {
   "cell_type": "code",
   "execution_count": 17,
   "id": "bf150c20-9218-48f5-9dfa-f45b782b8891",
   "metadata": {
    "tags": []
   },
   "outputs": [],
   "source": [
    "# To extract from wikipedia "
   ]
  },
  {
   "cell_type": "code",
   "execution_count": 79,
   "id": "c487b620-3df1-48a9-8026-73a3cd1fa271",
   "metadata": {},
   "outputs": [
    {
     "name": "stdout",
     "output_type": "stream",
     "text": [
      "<p class=\"mw-empty-elt\">\n",
      "\n",
      "</p>\n",
      "<p><b>Canoo Inc.</b> is an American automotive company based in Torrance, California, that develops and manufactures electric vehicles. Canoo's research &amp; development team is based in Michigan, in the Detroit region (Auburn Hills, Livonia), and production operations are in Justin, Texas. The company also plans to produce commercial electric vehicles such as vans for fleet, vehicle rental and ride sharing services.</p>\n"
     ]
    }
   ],
   "source": [
    "import requests\n",
    "\n",
    "def scrape_data_from_wikipedia(page_title):\n",
    "    # URL for the Wikipedia API\n",
    "    url = \"https://en.wikipedia.org/w/api.php\"\n",
    "\n",
    "    # Parameters for the API request\n",
    "    params = {\"action\": \"query\",\"format\": \"json\",\n",
    "              \"prop\": \"extracts\",\"exintro\": True,\n",
    "              \"titles\": page_title}\n",
    "\n",
    "    # Send a GET request to the Wikipedia API\n",
    "    response = requests.get(url, params=params)\n",
    "\n",
    "    if response.status_code == 200:\n",
    "        data = response.json()\n",
    "        page_id = list(data[\"query\"][\"pages\"].keys())[0]\n",
    "        content = data[\"query\"][\"pages\"][page_id][\"extract\"]\n",
    "        return content\n",
    "    else:\n",
    "        print(f\"Failed to fetch data from Wikipedia. Status code: {response.status_code}\")\n",
    "        return None\n",
    "\n",
    "page_title = \"Canoo\"\n",
    "content = scrape_data_from_wikipedia(page_title)\n",
    "if content:\n",
    "    print(content)\n"
   ]
  },
  {
   "cell_type": "code",
   "execution_count": null,
   "id": "0cb57900-04a5-4416-b6e8-11352531d235",
   "metadata": {},
   "outputs": [],
   "source": []
  },
  {
   "cell_type": "code",
   "execution_count": null,
   "id": "cab88ec5-2562-4c8a-8dd4-2d9f76151a6e",
   "metadata": {},
   "outputs": [],
   "source": []
  }
 ],
 "metadata": {
  "kernelspec": {
   "display_name": "Python 3 (ipykernel)",
   "language": "python",
   "name": "python3"
  },
  "language_info": {
   "codemirror_mode": {
    "name": "ipython",
    "version": 3
   },
   "file_extension": ".py",
   "mimetype": "text/x-python",
   "name": "python",
   "nbconvert_exporter": "python",
   "pygments_lexer": "ipython3",
   "version": "3.9.12"
  }
 },
 "nbformat": 4,
 "nbformat_minor": 5
}
